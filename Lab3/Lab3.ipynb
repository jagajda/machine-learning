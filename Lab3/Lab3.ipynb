{
 "cells": [
  {
   "cell_type": "markdown",
   "metadata": {},
   "source": [
    "# Exercise 1"
   ]
  },
  {
   "cell_type": "code",
   "execution_count": 1,
   "metadata": {},
   "outputs": [],
   "source": [
    "# fit the sigmoid curve and calculate decision boundary using given dataset\n",
    "\n",
    "# a cheat sheet:\n",
    "# in an optimization loop\n",
    "# first calculate hypothesis for each datapoint x in X: h = 1 / (1 + exp(-theta0-theta1*x))\n",
    "# then calculate crossentropy: -y*log(h) - (1-y)*log(1-h)\n",
    "# and cost: sum(crossentropy) / len(x)\n",
    "# next calculate derivatives for theta 0 and theta1 (similar to those in linear regression)\n",
    "# theta0_deriv = sum(h - y) / len(y), theta1_deriv = sum((h-y)*X)\n",
    "# and then update theta weights\n",
    "# theta = theta - lr*theta_deriv\n",
    "\n",
    "# check if cost is getting lower through iterations\n",
    "# if not, try to modify the learning rate\n",
    "\n",
    "# calculating decision boundary might look like this:\n",
    "# theta[0] + theta[1]*x = 0\n",
    "# theta[1]*x = -theta[0]\n",
    "# x = -theta[0]/theta[1]\n",
    "\n",
    "# the result might look like below\n",
    "\n",
    "from matplotlib import pyplot as plt\n",
    "import numpy as np\n",
    "import pandas as pd\n",
    "from sklearn.model_selection import train_test_split\n",
    "from sklearn.metrics import accuracy_score, recall_score, precision_score\n",
    "\n",
    "X = np.array([1, 2, 3, 4, 5, 6, 7, 8, 9, 15, 25], dtype=np.float32)\n",
    "y = np.array([0, 0, 0, 0, 0, 0, 1, 1, 1,  1,  1], dtype=np.float32)\n",
    "\n",
    "theta = np.array([0, 0], dtype=np.float32)"
   ]
  },
  {
   "cell_type": "code",
   "execution_count": 2,
   "metadata": {},
   "outputs": [],
   "source": [
    "# optimization loop\n",
    "def calculate_theta(x, y, thetas, learning_rate, iterations):\n",
    "    h = np.zeros(x.shape, dtype = np.float32)\n",
    "    crossentropy = np.zeros(x.shape, dtype = np.float32)\n",
    "    thetas_deriv = np.zeros(thetas.shape, dtype = np.float32)\n",
    "    cost = np.zeros(iterations, dtype = np.float32)\n",
    "    prev_cost = 99\n",
    "    eps = 0.000001\n",
    "    for it in range(iterations): \n",
    "        h = 1 / (1 + np.exp(-thetas[0] - thetas[1] *x))\n",
    "        crossentropy = -y * np.log(h + eps) - (1 - y) * np.log(1 - h + eps)\n",
    "        cost[it] = np.sum(crossentropy) / len(x)\n",
    "        thetas_deriv = np.array([np.sum(h - y) / len(h), np.sum((h- y ) * x) / len(y)])\n",
    "        thetas = thetas - learning_rate * thetas_deriv\n",
    "        if np.abs(prev_cost - cost[it]) < eps:\n",
    "            break\n",
    "        prev_cost = cost[it]\n",
    "    return thetas"
   ]
  },
  {
   "cell_type": "markdown",
   "metadata": {},
   "source": [
    "Definition of algorithm input parametres and optimization loop run"
   ]
  },
  {
   "cell_type": "code",
   "execution_count": 3,
   "metadata": {},
   "outputs": [],
   "source": [
    "learning_rate = 0.1\n",
    "iterations = 10000\n",
    "theta_res = calculate_theta(X, y, theta, learning_rate, iterations)"
   ]
  },
  {
   "cell_type": "markdown",
   "metadata": {},
   "source": [
    "Printing final theta values"
   ]
  },
  {
   "cell_type": "code",
   "execution_count": 4,
   "metadata": {},
   "outputs": [
    {
     "data": {
      "text/plain": [
       "array([-14.08685353,   2.18658498])"
      ]
     },
     "execution_count": 4,
     "metadata": {},
     "output_type": "execute_result"
    }
   ],
   "source": [
    "theta_res"
   ]
  },
  {
   "cell_type": "markdown",
   "metadata": {},
   "source": [
    "## Calculating the boundary"
   ]
  },
  {
   "cell_type": "code",
   "execution_count": 5,
   "metadata": {},
   "outputs": [],
   "source": [
    "boundary =  - theta_res[0] / theta_res[1]"
   ]
  },
  {
   "cell_type": "code",
   "execution_count": 6,
   "metadata": {},
   "outputs": [
    {
     "data": {
      "text/plain": [
       "6.44239928463182"
      ]
     },
     "execution_count": 6,
     "metadata": {},
     "output_type": "execute_result"
    }
   ],
   "source": [
    "boundary"
   ]
  },
  {
   "cell_type": "code",
   "execution_count": 7,
   "metadata": {},
   "outputs": [],
   "source": [
    "#For plot purposes only\n",
    "xargs = np.squeeze(X)\n",
    "yargs = np.squeeze(y)"
   ]
  },
  {
   "cell_type": "code",
   "execution_count": 8,
   "metadata": {},
   "outputs": [
    {
     "data": {
      "text/plain": [
       "<matplotlib.collections.LineCollection at 0x20dc658bc88>"
      ]
     },
     "execution_count": 8,
     "metadata": {},
     "output_type": "execute_result"
    },
    {
     "data": {
      "image/png": "[encoded data removed]",
      "text/plain": [
       "<Figure size 432x288 with 1 Axes>"
      ]
     },
     "metadata": {
      "needs_background": "light"
     },
     "output_type": "display_data"
    }
   ],
   "source": [
    "plt.plot(xargs, yargs, 'xr')\n",
    "plt.vlines(boundary, 0, 1)"
   ]
  },
  {
   "cell_type": "markdown",
   "metadata": {},
   "source": [
    "# Exercise 2"
   ]
  },
  {
   "cell_type": "code",
   "execution_count": 9,
   "metadata": {},
   "outputs": [],
   "source": [
    "X = np.array([[1, 1, 1, 1, 1, 1, 1, 1, 1,  1,  1],\n",
    "              [1, 2, 3, 4, 5, 6, 7, 8, 9, 15, 25]], dtype=np.float32)\n",
    "y = np.array([[0, 0, 0, 0, 0, 0, 1, 1, 1,  1,  1]], dtype=np.float32)\n",
    "\n",
    "theta = np.array([0, 0], dtype=np.float32)"
   ]
  },
  {
   "cell_type": "code",
   "execution_count": 9,
   "metadata": {},
   "outputs": [],
   "source": [
    "# multidimensional optimization loop\n",
    "def calculate_theta_multidimensional(X, y, theta, learning_rate, iterations):\n",
    "    h = np.zeros(X.shape[1], dtype = np.float32)\n",
    "    crossentropy = np.zeros(X.shape[1], dtype = np.float32)\n",
    "    theta_deriv = np.zeros(theta.shape, dtype = np.float32)\n",
    "    theta_res = theta\n",
    "    cost = np.zeros(iterations)\n",
    "    eps = 0.000001\n",
    "    prev_cost = 99\n",
    "    for it in range(iterations):\n",
    "        h = 1 / (1 + np.exp(-theta_res.T @ X))\n",
    "        crossentropy = -y * np.log(h + eps) - (1-y) * np.log(1 - h + eps)\n",
    "        cost[it] = np.sum(crossentropy) / X.shape[1]\n",
    "        for i in range(X.shape[0]):\n",
    "            theta_deriv[i] = np.sum((h-y) @ X[i,:].T) / X.shape[1]\n",
    "        theta_res = theta_res - learning_rate * theta_deriv\n",
    "        if np.abs(prev_cost - cost[it]) < eps:\n",
    "            break\n",
    "        prev_cost = cost[it]\n",
    "    return theta_res"
   ]
  },
  {
   "cell_type": "markdown",
   "metadata": {},
   "source": [
    "Definition of algorithm input parametres and optimization loop run"
   ]
  },
  {
   "cell_type": "code",
   "execution_count": 11,
   "metadata": {},
   "outputs": [],
   "source": [
    "learning_rate = 0.1\n",
    "iterations = 100000\n",
    "theta_result = calculate_theta_multidimensional(X, y, theta, learning_rate, iterations)"
   ]
  },
  {
   "cell_type": "markdown",
   "metadata": {},
   "source": [
    "Printing final theta values"
   ]
  },
  {
   "cell_type": "code",
   "execution_count": 12,
   "metadata": {},
   "outputs": [
    {
     "data": {
      "text/plain": [
       "array([-18.722996 ,   2.8965383], dtype=float32)"
      ]
     },
     "execution_count": 12,
     "metadata": {},
     "output_type": "execute_result"
    }
   ],
   "source": [
    "theta_result"
   ]
  },
  {
   "cell_type": "markdown",
   "metadata": {},
   "source": [
    "## Calculating the boundary"
   ]
  },
  {
   "cell_type": "code",
   "execution_count": 13,
   "metadata": {},
   "outputs": [],
   "source": [
    "boundary =  - theta_result[0] / theta_result[1]"
   ]
  },
  {
   "cell_type": "code",
   "execution_count": 14,
   "metadata": {},
   "outputs": [
    {
     "data": {
      "text/plain": [
       "6.4639215"
      ]
     },
     "execution_count": 14,
     "metadata": {},
     "output_type": "execute_result"
    }
   ],
   "source": [
    "boundary"
   ]
  },
  {
   "cell_type": "code",
   "execution_count": 15,
   "metadata": {},
   "outputs": [],
   "source": [
    "#For plot purposes only\n",
    "xargs = np.squeeze(X[1,:])\n",
    "yargs = np.squeeze(y)"
   ]
  },
  {
   "cell_type": "code",
   "execution_count": 16,
   "metadata": {},
   "outputs": [
    {
     "data": {
      "text/plain": [
       "<matplotlib.collections.LineCollection at 0x20dc66e7e80>"
      ]
     },
     "execution_count": 16,
     "metadata": {},
     "output_type": "execute_result"
    },
    {
     "data": {
      "image/png": "[encoded data removed]",
      "text/plain": [
       "<Figure size 432x288 with 1 Axes>"
      ]
     },
     "metadata": {
      "needs_background": "light"
     },
     "output_type": "display_data"
    }
   ],
   "source": [
    "plt.plot(xargs, yargs, 'xr')\n",
    "plt.vlines(boundary, 0, 1)"
   ]
  },
  {
   "cell_type": "markdown",
   "metadata": {},
   "source": [
    "# Exercise 3"
   ]
  },
  {
   "cell_type": "code",
   "execution_count": 17,
   "metadata": {},
   "outputs": [],
   "source": [
    "# using real data, optimize classifier to predict given values\n",
    "\n",
    "# split dataset into a training set and a test set\n",
    "# train model on the training set\n",
    "# calculate TP, FP, TN, FN on test set\n",
    "# calculate sensitivity, specificity, positive predictivity and negative predictivity"
   ]
  },
  {
   "cell_type": "markdown",
   "metadata": {},
   "source": [
    "Reading data from file"
   ]
  },
  {
   "cell_type": "code",
   "execution_count": 18,
   "metadata": {},
   "outputs": [],
   "source": [
    "data = pd.read_csv('./data.txt')\n",
    "data.insert(loc=0, column='', value=1)\n",
    "data = data.values"
   ]
  },
  {
   "cell_type": "markdown",
   "metadata": {},
   "source": [
    "Data standarization"
   ]
  },
  {
   "cell_type": "code",
   "execution_count": 19,
   "metadata": {},
   "outputs": [],
   "source": [
    "data[:,1] = (data[:,1] - np.mean(data[:,1])) / np.std(data[:,1])\n",
    "data[:,2] = (data[:,2] - np.mean(data[:,2])) / np.std(data[:,2])"
   ]
  },
  {
   "cell_type": "markdown",
   "metadata": {},
   "source": [
    "Substracting variables"
   ]
  },
  {
   "cell_type": "code",
   "execution_count": 20,
   "metadata": {},
   "outputs": [],
   "source": [
    "X = data[:, [0,1,2]]\n",
    "y = data[:, 3]"
   ]
  },
  {
   "cell_type": "markdown",
   "metadata": {},
   "source": [
    "Dividing the dataset into train and test sets"
   ]
  },
  {
   "cell_type": "code",
   "execution_count": 21,
   "metadata": {},
   "outputs": [],
   "source": [
    "X_train, X_test, y_train, y_test = train_test_split(X, y, test_size=0.4)"
   ]
  },
  {
   "cell_type": "code",
   "execution_count": 22,
   "metadata": {},
   "outputs": [],
   "source": [
    "#transposing for algorith purposes\n",
    "X_train = X_train.T\n",
    "y_train = y_train.T\n",
    "X_test = X_test.T\n",
    "y_test = y_test.T"
   ]
  },
  {
   "cell_type": "markdown",
   "metadata": {},
   "source": [
    "Input parametres definition and optimization run"
   ]
  },
  {
   "cell_type": "code",
   "execution_count": 23,
   "metadata": {},
   "outputs": [],
   "source": [
    "theta = np.array([[0], [0], [0]], dtype=np.float32)"
   ]
  },
  {
   "cell_type": "code",
   "execution_count": 24,
   "metadata": {},
   "outputs": [],
   "source": [
    "learning_rate = 0.1\n",
    "iterations = 10000\n",
    "theta_res = calculate_theta_multidimensional(X_train, y_train, theta, learning_rate, iterations)"
   ]
  },
  {
   "cell_type": "markdown",
   "metadata": {},
   "source": [
    "Printing final theta values"
   ]
  },
  {
   "cell_type": "code",
   "execution_count": 25,
   "metadata": {},
   "outputs": [
    {
     "data": {
      "text/plain": [
       "array([[1.2523322],\n",
       "       [3.7839055],\n",
       "       [2.9406652]], dtype=float32)"
      ]
     },
     "execution_count": 25,
     "metadata": {},
     "output_type": "execute_result"
    }
   ],
   "source": [
    "theta_res"
   ]
  },
  {
   "cell_type": "markdown",
   "metadata": {},
   "source": [
    "Calculating predicted probability based on logistic regression"
   ]
  },
  {
   "cell_type": "code",
   "execution_count": 26,
   "metadata": {},
   "outputs": [],
   "source": [
    "#calculating predicted values based on theta results\n",
    "y_pred = 1 / np.exp(-theta_res.T @ X_test)"
   ]
  },
  {
   "cell_type": "markdown",
   "metadata": {},
   "source": [
    "Transforming given probability into binary variables"
   ]
  },
  {
   "cell_type": "code",
   "execution_count": 27,
   "metadata": {},
   "outputs": [],
   "source": [
    "y_pred = np.where(y_pred > 0.5, 1, 0)\n",
    "y_pred = np.squeeze(y_pred)"
   ]
  },
  {
   "cell_type": "markdown",
   "metadata": {},
   "source": [
    "Calculating accuracy with sklearn metric"
   ]
  },
  {
   "cell_type": "code",
   "execution_count": 28,
   "metadata": {},
   "outputs": [
    {
     "data": {
      "text/plain": [
       "0.9"
      ]
     },
     "execution_count": 28,
     "metadata": {},
     "output_type": "execute_result"
    }
   ],
   "source": [
    "accuracy = accuracy_score(y_test, y_pred)\n",
    "accuracy"
   ]
  },
  {
   "cell_type": "markdown",
   "metadata": {},
   "source": [
    "Calculating recall (sensitivity) with sklearn metric"
   ]
  },
  {
   "cell_type": "code",
   "execution_count": 29,
   "metadata": {},
   "outputs": [
    {
     "data": {
      "text/plain": [
       "0.92"
      ]
     },
     "execution_count": 29,
     "metadata": {},
     "output_type": "execute_result"
    }
   ],
   "source": [
    "recall = recall_score(y_test, y_pred)\n",
    "recall"
   ]
  },
  {
   "cell_type": "markdown",
   "metadata": {},
   "source": [
    "Calculating precision (positive predictivity) with sklearn metric"
   ]
  },
  {
   "cell_type": "code",
   "execution_count": 30,
   "metadata": {},
   "outputs": [
    {
     "data": {
      "text/plain": [
       "0.92"
      ]
     },
     "execution_count": 30,
     "metadata": {},
     "output_type": "execute_result"
    }
   ],
   "source": [
    "precision = precision_score(y_test, y_pred)\n",
    "precision"
   ]
  },
  {
   "cell_type": "code",
   "execution_count": 3,
   "metadata": {},
   "outputs": [],
   "source": [
    "def perf_measure(y_actual, y_pred):\n",
    "    TP = 0\n",
    "    FP = 0\n",
    "    TN = 0\n",
    "    FN = 0\n",
    "\n",
    "    for i in range(len(y_pred)): \n",
    "        if y_actual[i]==y_pred[i]==1:\n",
    "           TP += 1\n",
    "        if y_pred[i]==1 and y_actual[i]!=y_pred[i]:\n",
    "           FP += 1\n",
    "        if y_actual[i]==y_pred[i]==0:\n",
    "           TN += 1\n",
    "        if y_pred[i]==0 and y_actual[i]!=y_pred[i]:\n",
    "           FN += 1\n",
    "\n",
    "    return(TP, FP, TN, FN)"
   ]
  },
  {
   "cell_type": "markdown",
   "metadata": {},
   "source": [
    "Calculating specifity"
   ]
  },
  {
   "cell_type": "code",
   "execution_count": 32,
   "metadata": {},
   "outputs": [
    {
     "data": {
      "text/plain": [
       "0.8666666666666667"
      ]
     },
     "execution_count": 32,
     "metadata": {},
     "output_type": "execute_result"
    }
   ],
   "source": [
    "true_pos, false_pos, true_neg, false_neg = perf_measure(y_test, y_pred)\n",
    "specifity = true_neg / (true_neg + false_pos)\n",
    "specifity"
   ]
  },
  {
   "cell_type": "markdown",
   "metadata": {},
   "source": [
    "Calculating true negativity with sklearn metric"
   ]
  },
  {
   "cell_type": "code",
   "execution_count": 33,
   "metadata": {},
   "outputs": [
    {
     "data": {
      "text/plain": [
       "0.8666666666666667"
      ]
     },
     "execution_count": 33,
     "metadata": {},
     "output_type": "execute_result"
    }
   ],
   "source": [
    "neg_pred = true_neg / (true_neg + false_neg)\n",
    "neg_pred"
   ]
  },
  {
   "cell_type": "markdown",
   "metadata": {},
   "source": [
    "## Plotting the boundary line"
   ]
  },
  {
   "cell_type": "code",
   "execution_count": 34,
   "metadata": {},
   "outputs": [],
   "source": [
    "xargs = X_test[1,:]\n",
    "yargs = -(theta_res[0] + theta_res[1] * xargs) / theta_res[2]"
   ]
  },
  {
   "cell_type": "code",
   "execution_count": 35,
   "metadata": {},
   "outputs": [
    {
     "data": {
      "text/plain": [
       "<matplotlib.collections.PathCollection at 0x20dc67c3588>"
      ]
     },
     "execution_count": 35,
     "metadata": {},
     "output_type": "execute_result"
    },
    {
     "data": {
      "image/png": "[encoded data removed]",
      "text/plain": [
       "<Figure size 432x288 with 1 Axes>"
      ]
     },
     "metadata": {
      "needs_background": "light"
     },
     "output_type": "display_data"
    }
   ],
   "source": [
    "plt.plot(xargs, yargs, 'g')\n",
    "plt.scatter(X_test[1,:], X_test[2,:])"
   ]
  },
  {
   "cell_type": "markdown",
   "metadata": {},
   "source": [
    "# Exercise 4 (optional)"
   ]
  },
  {
   "cell_type": "markdown",
   "metadata": {},
   "source": [
    "## Reading the dataset"
   ]
  },
  {
   "cell_type": "code",
   "execution_count": 4,
   "metadata": {},
   "outputs": [],
   "source": [
    "def read_data_set(images_path, labels_path, num_images):\n",
    "    image_size = 28\n",
    "    # training set\n",
    "    with open(images_path, 'rb') as f:\n",
    "        f.read(16)\n",
    "        buf = f.read(image_size * image_size * num_images)\n",
    "        data = np.frombuffer(buf, dtype=np.uint8).astype(np.float32)\n",
    "        training_data = data.reshape(num_images, image_size, image_size)\n",
    "    # labels\n",
    "    with open(labels_path, 'rb') as f:\n",
    "        f.read(8)\n",
    "        buf = f.read(num_images)\n",
    "        data = np.frombuffer(buf, dtype=np.uint8).astype(np.float32)\n",
    "        training_labels = data.reshape(num_images)\n",
    "    return training_data, training_labels"
   ]
  },
  {
   "cell_type": "code",
   "execution_count": 5,
   "metadata": {
    "scrolled": true
   },
   "outputs": [],
   "source": [
    "training_data, training_labels = read_data_set('./train-images.idx3-ubyte', './train-labels.idx1-ubyte', 60000)\n",
    "training_data = training_data/255.0 # can be normalized to converge faster"
   ]
  },
  {
   "cell_type": "code",
   "execution_count": 6,
   "metadata": {},
   "outputs": [
    {
     "name": "stdout",
     "output_type": "stream",
     "text": [
      "0.0\n"
     ]
    },
    {
     "data": {
      "text/plain": [
       "<matplotlib.image.AxesImage at 0x23110826320>"
      ]
     },
     "execution_count": 6,
     "metadata": {},
     "output_type": "execute_result"
    },
    {
     "data": {
      "image/png": "[encoded data removed]",
      "text/plain": [
       "<Figure size 432x288 with 1 Axes>"
      ]
     },
     "metadata": {
      "needs_background": "light"
     },
     "output_type": "display_data"
    }
   ],
   "source": [
    "# check if data have been loaded correctly\n",
    "example_idx = 156\n",
    "print(training_labels[example_idx])\n",
    "plt.imshow(training_data[example_idx])"
   ]
  },
  {
   "cell_type": "code",
   "execution_count": 7,
   "metadata": {},
   "outputs": [],
   "source": [
    "# training data must be vectorized\n",
    "# from [n_examples, height, width] to [n_examples, n_features]\n",
    "training_data.shape = [training_data.shape[0], training_data.shape[1] * training_data.shape[2]]\n",
    "\n",
    "# lets start with '2' vs rest\n",
    "y = np.array(training_labels == 2, dtype=np.float32)\n",
    "X = np.concatenate((np.ones((1, len(y))), training_data.T))\n",
    "\n",
    "theta = np.zeros((X.shape[0], 1))"
   ]
  },
  {
   "cell_type": "code",
   "execution_count": 10,
   "metadata": {},
   "outputs": [],
   "source": [
    "theta_res = calculate_theta_multidimensional(X, y, theta, learning_rate=0.1, iterations=100)"
   ]
  },
  {
   "cell_type": "code",
   "execution_count": 15,
   "metadata": {},
   "outputs": [
    {
     "data": {
      "text/plain": [
       "array([[-2.35883273e-01],\n",
       "       [ 0.00000000e+00],\n",
       "       [ 0.00000000e+00],\n",
       "       [ 0.00000000e+00],\n",
       "       [ 0.00000000e+00],\n",
       "       [ 0.00000000e+00],\n",
       "       [ 0.00000000e+00],\n",
       "       [ 0.00000000e+00],\n",
       "       [ 0.00000000e+00],\n",
       "       [ 0.00000000e+00],\n",
       "       [ 0.00000000e+00],\n",
       "       [ 0.00000000e+00],\n",
       "       [ 0.00000000e+00],\n",
       "       [ 0.00000000e+00],\n",
       "       [ 0.00000000e+00],\n",
       "       [ 0.00000000e+00],\n",
       "       [ 0.00000000e+00],\n",
       "       [ 0.00000000e+00],\n",
       "       [ 0.00000000e+00],\n",
       "       [ 0.00000000e+00],\n",
       "       [ 0.00000000e+00],\n",
       "       [ 0.00000000e+00],\n",
       "       [ 0.00000000e+00],\n",
       "       [ 0.00000000e+00],\n",
       "       [ 0.00000000e+00],\n",
       "       [ 0.00000000e+00],\n",
       "       [ 0.00000000e+00],\n",
       "       [ 0.00000000e+00],\n",
       "       [ 0.00000000e+00],\n",
       "       [ 0.00000000e+00],\n",
       "       [ 0.00000000e+00],\n",
       "       [ 0.00000000e+00],\n",
       "       [ 0.00000000e+00],\n",
       "       [ 0.00000000e+00],\n",
       "       [ 7.17760093e-05],\n",
       "       [ 4.45766780e-04],\n",
       "       [ 2.98437091e-04],\n",
       "       [ 3.82640554e-04],\n",
       "       [ 1.17581234e-04],\n",
       "       [-7.21476817e-04],\n",
       "       [-1.89199523e-03],\n",
       "       [-2.32743663e-03],\n",
       "       [-1.97909327e-03],\n",
       "       [-2.05800856e-03],\n",
       "       [-1.42789323e-03],\n",
       "       [-4.67926213e-04],\n",
       "       [-8.53468441e-04],\n",
       "       [-7.44750458e-04],\n",
       "       [-2.54989533e-04],\n",
       "       [-8.56894002e-05],\n",
       "       [ 0.00000000e+00],\n",
       "       [ 0.00000000e+00],\n",
       "       [ 0.00000000e+00],\n",
       "       [ 0.00000000e+00],\n",
       "       [ 0.00000000e+00],\n",
       "       [ 0.00000000e+00],\n",
       "       [ 0.00000000e+00],\n",
       "       [ 0.00000000e+00],\n",
       "       [ 0.00000000e+00],\n",
       "       [ 0.00000000e+00],\n",
       "       [ 0.00000000e+00],\n",
       "       [ 0.00000000e+00],\n",
       "       [ 5.69774762e-04],\n",
       "       [ 1.17382385e-03],\n",
       "       [ 3.38035557e-04],\n",
       "       [-6.52882966e-04],\n",
       "       [-1.22657868e-03],\n",
       "       [-1.12323694e-03],\n",
       "       [-3.98613339e-03],\n",
       "       [-6.15028765e-03],\n",
       "       [-9.96636449e-03],\n",
       "       [-1.11366129e-02],\n",
       "       [-8.86516984e-03],\n",
       "       [-7.33888772e-03],\n",
       "       [-8.42523613e-03],\n",
       "       [-7.36420929e-03],\n",
       "       [-5.96486542e-03],\n",
       "       [-4.71517983e-03],\n",
       "       [-2.52734137e-03],\n",
       "       [-1.11907735e-03],\n",
       "       [-3.33399882e-04],\n",
       "       [-3.90056828e-06],\n",
       "       [ 0.00000000e+00],\n",
       "       [ 0.00000000e+00],\n",
       "       [ 0.00000000e+00],\n",
       "       [ 0.00000000e+00],\n",
       "       [ 0.00000000e+00],\n",
       "       [ 0.00000000e+00],\n",
       "       [ 0.00000000e+00],\n",
       "       [-6.10565878e-05],\n",
       "       [ 1.24424020e-04],\n",
       "       [ 1.92967172e-03],\n",
       "       [ 4.29231761e-03],\n",
       "       [ 7.28568979e-03],\n",
       "       [ 1.31410854e-02],\n",
       "       [ 2.09921477e-02],\n",
       "       [ 2.53881548e-02],\n",
       "       [ 3.27444267e-02],\n",
       "       [ 3.64839401e-02],\n",
       "       [ 3.28393246e-02],\n",
       "       [ 2.61300770e-02],\n",
       "       [ 1.44480971e-02],\n",
       "       [ 8.40817606e-03],\n",
       "       [-6.67878073e-05],\n",
       "       [-6.24577264e-03],\n",
       "       [-6.64972676e-03],\n",
       "       [-5.54861860e-03],\n",
       "       [-3.93255323e-03],\n",
       "       [-1.98187345e-03],\n",
       "       [-8.39240764e-04],\n",
       "       [-2.94271946e-04],\n",
       "       [-1.01508503e-04],\n",
       "       [ 0.00000000e+00],\n",
       "       [ 0.00000000e+00],\n",
       "       [ 0.00000000e+00],\n",
       "       [ 0.00000000e+00],\n",
       "       [-2.97827880e-05],\n",
       "       [-2.43748806e-04],\n",
       "       [ 5.03295087e-04],\n",
       "       [ 6.75222103e-03],\n",
       "       [ 1.69040613e-02],\n",
       "       [ 3.12793737e-02],\n",
       "       [ 5.05036113e-02],\n",
       "       [ 7.05080491e-02],\n",
       "       [ 8.16823388e-02],\n",
       "       [ 9.46397518e-02],\n",
       "       [ 1.04051483e-01],\n",
       "       [ 1.07069657e-01],\n",
       "       [ 1.01763893e-01],\n",
       "       [ 8.15613880e-02],\n",
       "       [ 4.81585456e-02],\n",
       "       [ 1.67783587e-02],\n",
       "       [-4.58961124e-03],\n",
       "       [-1.65672461e-02],\n",
       "       [-1.61555052e-02],\n",
       "       [-1.49590105e-02],\n",
       "       [-8.26528173e-03],\n",
       "       [-3.66905456e-03],\n",
       "       [-8.23120355e-04],\n",
       "       [-3.29757635e-04],\n",
       "       [ 0.00000000e+00],\n",
       "       [ 0.00000000e+00],\n",
       "       [-8.76549927e-06],\n",
       "       [-5.54814979e-06],\n",
       "       [ 3.80333083e-05],\n",
       "       [-1.07294634e-03],\n",
       "       [-1.50948158e-04],\n",
       "       [ 1.19956666e-02],\n",
       "       [ 3.06067330e-02],\n",
       "       [ 5.74965987e-02],\n",
       "       [ 7.83226969e-02],\n",
       "       [ 9.53327102e-02],\n",
       "       [ 1.00806286e-01],\n",
       "       [ 1.09276927e-01],\n",
       "       [ 1.09007613e-01],\n",
       "       [ 1.00396164e-01],\n",
       "       [ 8.50546699e-02],\n",
       "       [ 7.91543504e-02],\n",
       "       [ 5.83104334e-02],\n",
       "       [ 2.49316592e-02],\n",
       "       [-3.87665434e-03],\n",
       "       [-2.08439277e-02],\n",
       "       [-2.78267699e-02],\n",
       "       [-2.53056333e-02],\n",
       "       [-1.49739229e-02],\n",
       "       [-7.78536214e-03],\n",
       "       [-2.00603235e-03],\n",
       "       [-5.96357495e-04],\n",
       "       [ 0.00000000e+00],\n",
       "       [ 0.00000000e+00],\n",
       "       [ 0.00000000e+00],\n",
       "       [-2.23242853e-05],\n",
       "       [-7.46524996e-04],\n",
       "       [ 6.16329963e-05],\n",
       "       [ 2.89227445e-03],\n",
       "       [ 1.85077221e-02],\n",
       "       [ 3.56104927e-02],\n",
       "       [ 5.30039977e-02],\n",
       "       [ 6.29771509e-02],\n",
       "       [ 6.93340167e-02],\n",
       "       [ 7.25257734e-02],\n",
       "       [ 6.74469664e-02],\n",
       "       [ 5.92683446e-02],\n",
       "       [ 4.60133486e-02],\n",
       "       [ 3.50428697e-02],\n",
       "       [ 3.91186004e-02],\n",
       "       [ 3.38874726e-02],\n",
       "       [ 2.20385103e-02],\n",
       "       [-3.39655701e-03],\n",
       "       [-1.61667229e-02],\n",
       "       [-2.80159810e-02],\n",
       "       [-2.66368957e-02],\n",
       "       [-1.90940998e-02],\n",
       "       [-1.13310420e-02],\n",
       "       [-3.80586103e-03],\n",
       "       [-7.80477706e-04],\n",
       "       [-7.31513758e-05],\n",
       "       [ 0.00000000e+00],\n",
       "       [-4.00781597e-05],\n",
       "       [-3.66171211e-04],\n",
       "       [-1.38603193e-03],\n",
       "       [ 1.35701236e-03],\n",
       "       [ 1.00920212e-02],\n",
       "       [ 1.85868389e-02],\n",
       "       [ 2.64426800e-02],\n",
       "       [ 2.98384965e-02],\n",
       "       [ 2.52990424e-02],\n",
       "       [ 2.21556716e-02],\n",
       "       [ 1.34116799e-02],\n",
       "       [-5.82431579e-03],\n",
       "       [-2.54612805e-02],\n",
       "       [-3.52021326e-02],\n",
       "       [-3.05610169e-02],\n",
       "       [-1.38758596e-02],\n",
       "       [-1.27915710e-02],\n",
       "       [-1.28063540e-02],\n",
       "       [-1.26556009e-02],\n",
       "       [-2.08747030e-02],\n",
       "       [-2.89301813e-02],\n",
       "       [-2.69732282e-02],\n",
       "       [-2.50923836e-02],\n",
       "       [-1.49989270e-02],\n",
       "       [-5.90690043e-03],\n",
       "       [-9.99209479e-04],\n",
       "       [-6.50538086e-05],\n",
       "       [ 0.00000000e+00],\n",
       "       [-2.22486741e-04],\n",
       "       [-9.96479517e-04],\n",
       "       [-1.06271535e-03],\n",
       "       [ 1.77978592e-03],\n",
       "       [ 5.09788735e-03],\n",
       "       [ 4.87059000e-03],\n",
       "       [-1.76729212e-03],\n",
       "       [-4.71774739e-03],\n",
       "       [-2.41768063e-02],\n",
       "       [-3.89225906e-02],\n",
       "       [-5.60888830e-02],\n",
       "       [-7.42147106e-02],\n",
       "       [-8.67253725e-02],\n",
       "       [-8.95978219e-02],\n",
       "       [-7.19464678e-02],\n",
       "       [-4.83582730e-02],\n",
       "       [-3.13126825e-02],\n",
       "       [-2.27408711e-02],\n",
       "       [-1.68654706e-02],\n",
       "       [-2.11782628e-02],\n",
       "       [-3.02598576e-02],\n",
       "       [-2.86867757e-02],\n",
       "       [-2.87112560e-02],\n",
       "       [-1.95519002e-02],\n",
       "       [-8.25866160e-03],\n",
       "       [-2.26110692e-03],\n",
       "       [-2.28697896e-04],\n",
       "       [-4.08662971e-05],\n",
       "       [-6.43633657e-04],\n",
       "       [-1.51679626e-03],\n",
       "       [-1.54997744e-03],\n",
       "       [-1.34307627e-03],\n",
       "       [-2.60592982e-03],\n",
       "       [-1.41353191e-02],\n",
       "       [-2.76271877e-02],\n",
       "       [-4.90795232e-02],\n",
       "       [-7.57299180e-02],\n",
       "       [-9.01483293e-02],\n",
       "       [-9.59498404e-02],\n",
       "       [-1.03797315e-01],\n",
       "       [-1.06489056e-01],\n",
       "       [-1.16912346e-01],\n",
       "       [-9.76598622e-02],\n",
       "       [-5.74487022e-02],\n",
       "       [-2.15388218e-02],\n",
       "       [-8.20007942e-03],\n",
       "       [-8.94523271e-03],\n",
       "       [-1.33562499e-02],\n",
       "       [-2.67177846e-02],\n",
       "       [-2.84491871e-02],\n",
       "       [-3.02813036e-02],\n",
       "       [-1.86000953e-02],\n",
       "       [-6.83967821e-03],\n",
       "       [-1.58890608e-03],\n",
       "       [-1.40522961e-04],\n",
       "       [-7.38557791e-05],\n",
       "       [-5.25210374e-04],\n",
       "       [-1.39579302e-03],\n",
       "       [-1.38681147e-03],\n",
       "       [-4.65702595e-03],\n",
       "       [-1.26056127e-02],\n",
       "       [-3.37730032e-02],\n",
       "       [-6.31115669e-02],\n",
       "       [-9.25890362e-02],\n",
       "       [-1.21743168e-01],\n",
       "       [-1.35175303e-01],\n",
       "       [-1.37554399e-01],\n",
       "       [-1.25102219e-01],\n",
       "       [-1.29888272e-01],\n",
       "       [-1.37801548e-01],\n",
       "       [-1.12397141e-01],\n",
       "       [-5.82769456e-02],\n",
       "       [-7.62372580e-03],\n",
       "       [ 1.10156162e-03],\n",
       "       [ 4.47636939e-03],\n",
       "       [-9.37378394e-03],\n",
       "       [-2.39783411e-02],\n",
       "       [-3.36284479e-02],\n",
       "       [-2.97679551e-02],\n",
       "       [-1.37155353e-02],\n",
       "       [-2.70236245e-03],\n",
       "       [-8.92442139e-04],\n",
       "       [-1.99204344e-04],\n",
       "       [-9.54761903e-06],\n",
       "       [-3.50955295e-04],\n",
       "       [-1.14300476e-03],\n",
       "       [-1.05252644e-03],\n",
       "       [-4.76471859e-03],\n",
       "       [-2.05071379e-02],\n",
       "       [-5.31572611e-02],\n",
       "       [-9.10157785e-02],\n",
       "       [-1.30765649e-01],\n",
       "       [-1.58464647e-01],\n",
       "       [-1.73018681e-01],\n",
       "       [-1.66745284e-01],\n",
       "       [-1.43903295e-01],\n",
       "       [-1.45033787e-01],\n",
       "       [-1.56511296e-01],\n",
       "       [-1.22224872e-01],\n",
       "       [-5.02053529e-02],\n",
       "       [-3.43645801e-03],\n",
       "       [ 1.39676659e-03],\n",
       "       [ 6.42187976e-03],\n",
       "       [-1.02934414e-02],\n",
       "       [-2.86010126e-02],\n",
       "       [-3.91892509e-02],\n",
       "       [-3.18050480e-02],\n",
       "       [-1.17356874e-02],\n",
       "       [-2.41988464e-04],\n",
       "       [-1.58736610e-04],\n",
       "       [-1.43737170e-04],\n",
       "       [ 0.00000000e+00],\n",
       "       [-3.12913324e-04],\n",
       "       [-8.09304439e-04],\n",
       "       [-5.28341288e-04],\n",
       "       [-5.67138534e-03],\n",
       "       [-3.13845556e-02],\n",
       "       [-6.77026946e-02],\n",
       "       [-1.08836483e-01],\n",
       "       [-1.52053429e-01],\n",
       "       [-1.77316723e-01],\n",
       "       [-1.87844377e-01],\n",
       "       [-1.73538774e-01],\n",
       "       [-1.50792085e-01],\n",
       "       [-1.51833127e-01],\n",
       "       [-1.65606895e-01],\n",
       "       [-1.18998895e-01],\n",
       "       [-5.39425545e-02],\n",
       "       [-2.11794464e-02],\n",
       "       [-1.29501114e-02],\n",
       "       [-9.93638066e-03],\n",
       "       [-2.29099735e-02],\n",
       "       [-4.25794996e-02],\n",
       "       [-5.23086677e-02],\n",
       "       [-3.68666328e-02],\n",
       "       [-1.21160568e-02],\n",
       "       [-2.77367300e-04],\n",
       "       [-9.77214308e-05],\n",
       "       [ 0.00000000e+00],\n",
       "       [ 0.00000000e+00],\n",
       "       [-9.51225993e-05],\n",
       "       [-4.48054699e-04],\n",
       "       [ 5.43657470e-04],\n",
       "       [-7.23456357e-03],\n",
       "       [-3.74694467e-02],\n",
       "       [-7.72036793e-02],\n",
       "       [-1.21033363e-01],\n",
       "       [-1.53139801e-01],\n",
       "       [-1.66539098e-01],\n",
       "       [-1.67573457e-01],\n",
       "       [-1.47177891e-01],\n",
       "       [-1.15928817e-01],\n",
       "       [-1.36749160e-01],\n",
       "       [-1.44430808e-01],\n",
       "       [-1.13177933e-01],\n",
       "       [-5.93157058e-02],\n",
       "       [-4.00262567e-02],\n",
       "       [-3.11302312e-02],\n",
       "       [-2.63839492e-02],\n",
       "       [-4.29743689e-02],\n",
       "       [-5.86679861e-02],\n",
       "       [-6.56080395e-02],\n",
       "       [-4.33988829e-02],\n",
       "       [-1.51760663e-02],\n",
       "       [-1.35441332e-03],\n",
       "       [-1.84993731e-04],\n",
       "       [ 0.00000000e+00],\n",
       "       [ 0.00000000e+00],\n",
       "       [ 0.00000000e+00],\n",
       "       [-1.72248535e-04],\n",
       "       [ 6.97997954e-04],\n",
       "       [-7.41008001e-03],\n",
       "       [-3.65969132e-02],\n",
       "       [-7.10100190e-02],\n",
       "       [-1.07787640e-01],\n",
       "       [-1.26907909e-01],\n",
       "       [-1.27413196e-01],\n",
       "       [-1.03988747e-01],\n",
       "       [-7.03427673e-02],\n",
       "       [-4.65013482e-02],\n",
       "       [-8.68376129e-02],\n",
       "       [-1.01777953e-01],\n",
       "       [-9.09742766e-02],\n",
       "       [-5.58066662e-02],\n",
       "       [-4.84458393e-02],\n",
       "       [-4.97024073e-02],\n",
       "       [-5.16012354e-02],\n",
       "       [-6.82231910e-02],\n",
       "       [-7.63359913e-02],\n",
       "       [-7.30521588e-02],\n",
       "       [-4.80915777e-02],\n",
       "       [-1.69786807e-02],\n",
       "       [ 1.42775438e-05],\n",
       "       [ 4.47367610e-05],\n",
       "       [ 0.00000000e+00],\n",
       "       [ 0.00000000e+00],\n",
       "       [ 0.00000000e+00],\n",
       "       [-1.45043839e-04],\n",
       "       [ 1.55975769e-03],\n",
       "       [-3.28822447e-03],\n",
       "       [-2.33020471e-02],\n",
       "       [-4.54942119e-02],\n",
       "       [-6.22907323e-02],\n",
       "       [-6.66959764e-02],\n",
       "       [-5.52627672e-02],\n",
       "       [-2.21255373e-02],\n",
       "       [ 1.83140102e-02],\n",
       "       [ 1.48738042e-02],\n",
       "       [-3.19095417e-02],\n",
       "       [-6.47531734e-02],\n",
       "       [-5.95371742e-02],\n",
       "       [-3.53043048e-02],\n",
       "       [-4.04777587e-02],\n",
       "       [-4.85856955e-02],\n",
       "       [-6.14018305e-02],\n",
       "       [-7.52462607e-02],\n",
       "       [-7.66795048e-02],\n",
       "       [-6.71368907e-02],\n",
       "       [-3.88053791e-02],\n",
       "       [-1.12803505e-02],\n",
       "       [ 4.14299291e-03],\n",
       "       [ 2.11959693e-04],\n",
       "       [-2.85752895e-05],\n",
       "       [ 0.00000000e+00],\n",
       "       [-6.79383379e-06],\n",
       "       [-3.86234158e-04],\n",
       "       [ 2.73794088e-03],\n",
       "       [ 6.21674497e-03],\n",
       "       [ 8.90992988e-05],\n",
       "       [ 1.34524966e-03],\n",
       "       [-8.16598268e-03],\n",
       "       [-1.02367890e-02],\n",
       "       [ 1.24406047e-02],\n",
       "       [ 4.78750269e-02],\n",
       "       [ 7.06963344e-02],\n",
       "       [ 5.59462877e-02],\n",
       "       [ 1.60122597e-02],\n",
       "       [-1.70217527e-02],\n",
       "       [-4.25134594e-03],\n",
       "       [-1.81447984e-03],\n",
       "       [-1.65521371e-02],\n",
       "       [-3.57030549e-02],\n",
       "       [-4.68937238e-02],\n",
       "       [-5.70504494e-02],\n",
       "       [-5.35114798e-02],\n",
       "       [-3.62830296e-02],\n",
       "       [-1.07820140e-02],\n",
       "       [ 8.78870116e-03],\n",
       "       [ 1.18503660e-02],\n",
       "       [ 1.31799961e-03],\n",
       "       [ 4.17481191e-04],\n",
       "       [ 0.00000000e+00],\n",
       "       [ 0.00000000e+00],\n",
       "       [-2.88677654e-04],\n",
       "       [ 5.40912460e-03],\n",
       "       [ 1.87160177e-02],\n",
       "       [ 3.35319518e-02],\n",
       "       [ 4.21201061e-02],\n",
       "       [ 4.27553938e-02],\n",
       "       [ 4.55107815e-02],\n",
       "       [ 5.84544393e-02],\n",
       "       [ 7.67265351e-02],\n",
       "       [ 8.13538433e-02],\n",
       "       [ 7.00423229e-02],\n",
       "       [ 2.79600399e-02],\n",
       "       [ 1.97309223e-02],\n",
       "       [ 3.70934191e-02],\n",
       "       [ 3.13643640e-02],\n",
       "       [-1.85466724e-03],\n",
       "       [-2.20252290e-02],\n",
       "       [-2.53499192e-02],\n",
       "       [-2.30089084e-02],\n",
       "       [-2.80908390e-03],\n",
       "       [ 1.26644391e-02],\n",
       "       [ 3.04069762e-02],\n",
       "       [ 3.36657946e-02],\n",
       "       [ 1.51263512e-02],\n",
       "       [ 1.43559452e-03],\n",
       "       [ 5.72610643e-04],\n",
       "       [ 0.00000000e+00],\n",
       "       [ 3.11598539e-04],\n",
       "       [ 1.96394290e-05],\n",
       "       [ 8.23161351e-03],\n",
       "       [ 3.32086276e-02],\n",
       "       [ 5.56640965e-02],\n",
       "       [ 7.03994017e-02],\n",
       "       [ 8.01524537e-02],\n",
       "       [ 7.95781758e-02],\n",
       "       [ 8.08563337e-02],\n",
       "       [ 7.93711380e-02],\n",
       "       [ 8.15867540e-02],\n",
       "       [ 6.64010991e-02],\n",
       "       [ 3.75644623e-02],\n",
       "       [ 3.89158099e-02],\n",
       "       [ 4.08938234e-02],\n",
       "       [ 2.70388289e-02],\n",
       "       [ 5.81499757e-03],\n",
       "       [-2.91347420e-03],\n",
       "       [ 6.25327791e-03],\n",
       "       [ 3.47672764e-02],\n",
       "       [ 5.18928901e-02],\n",
       "       [ 6.30344766e-02],\n",
       "       [ 6.79096626e-02],\n",
       "       [ 4.75281484e-02],\n",
       "       [ 1.92825973e-02],\n",
       "       [ 4.05869604e-03],\n",
       "       [ 2.71041433e-04],\n",
       "       [ 0.00000000e+00],\n",
       "       [ 6.30616091e-04],\n",
       "       [ 2.42917813e-04],\n",
       "       [ 9.29325963e-03],\n",
       "       [ 3.74142479e-02],\n",
       "       [ 6.82095440e-02],\n",
       "       [ 8.60476233e-02],\n",
       "       [ 8.66573396e-02],\n",
       "       [ 9.56522354e-02],\n",
       "       [ 9.25425159e-02],\n",
       "       [ 8.68043843e-02],\n",
       "       [ 6.87401553e-02],\n",
       "       [ 4.45996673e-02],\n",
       "       [ 2.06114452e-02],\n",
       "       [ 6.54781549e-03],\n",
       "       [ 2.35045345e-03],\n",
       "       [-4.65816535e-03],\n",
       "       [-1.76328904e-03],\n",
       "       [ 1.57951858e-02],\n",
       "       [ 4.57194676e-02],\n",
       "       [ 8.42639277e-02],\n",
       "       [ 9.94959011e-02],\n",
       "       [ 1.03252728e-01],\n",
       "       [ 8.31169153e-02],\n",
       "       [ 4.87397899e-02],\n",
       "       [ 1.88924418e-02],\n",
       "       [ 3.23437973e-03],\n",
       "       [ 5.36715717e-05],\n",
       "       [ 0.00000000e+00],\n",
       "       [ 8.90281577e-05],\n",
       "       [-6.44936214e-04],\n",
       "       [ 8.10294191e-03],\n",
       "       [ 3.59748833e-02],\n",
       "       [ 7.10831973e-02],\n",
       "       [ 8.69379585e-02],\n",
       "       [ 9.55412544e-02],\n",
       "       [ 1.03104253e-01],\n",
       "       [ 9.79655525e-02],\n",
       "       [ 7.45850436e-02],\n",
       "       [ 3.68164816e-02],\n",
       "       [ 9.58849361e-03],\n",
       "       [-2.12059979e-02],\n",
       "       [-4.18129034e-02],\n",
       "       [-4.94282556e-02],\n",
       "       [-4.46188652e-02],\n",
       "       [-1.26467678e-02],\n",
       "       [ 2.93339425e-02],\n",
       "       [ 7.56939410e-02],\n",
       "       [ 1.01093703e-01],\n",
       "       [ 1.13920230e-01],\n",
       "       [ 1.01025956e-01],\n",
       "       [ 6.89910867e-02],\n",
       "       [ 3.65893414e-02],\n",
       "       [ 1.24230842e-02],\n",
       "       [ 1.93444801e-03],\n",
       "       [ 0.00000000e+00],\n",
       "       [ 0.00000000e+00],\n",
       "       [ 0.00000000e+00],\n",
       "       [-1.03065806e-03],\n",
       "       [ 7.99529957e-03],\n",
       "       [ 2.97037001e-02],\n",
       "       [ 5.60883921e-02],\n",
       "       [ 7.30979851e-02],\n",
       "       [ 8.11880473e-02],\n",
       "       [ 7.99852701e-02],\n",
       "       [ 6.29112790e-02],\n",
       "       [ 3.22069840e-02],\n",
       "       [-6.90848364e-03],\n",
       "       [-3.69802345e-02],\n",
       "       [-7.33107566e-02],\n",
       "       [-9.88979811e-02],\n",
       "       [-9.64527068e-02],\n",
       "       [-7.20992846e-02],\n",
       "       [-2.65800285e-02],\n",
       "       [ 1.97924607e-02],\n",
       "       [ 6.20341084e-02],\n",
       "       [ 7.74873312e-02],\n",
       "       [ 8.21781879e-02],\n",
       "       [ 6.79766471e-02],\n",
       "       [ 4.57154772e-02],\n",
       "       [ 2.15770034e-02],\n",
       "       [ 4.60995927e-03],\n",
       "       [ 8.18658155e-04],\n",
       "       [ 0.00000000e+00],\n",
       "       [ 0.00000000e+00],\n",
       "       [ 0.00000000e+00],\n",
       "       [-4.20173330e-04],\n",
       "       [ 4.50701831e-03],\n",
       "       [ 1.75555544e-02],\n",
       "       [ 3.09308501e-02],\n",
       "       [ 3.67281571e-02],\n",
       "       [ 3.93159138e-02],\n",
       "       [ 3.75870066e-02],\n",
       "       [ 1.48131311e-02],\n",
       "       [-2.24372613e-02],\n",
       "       [-5.80895674e-02],\n",
       "       [-8.80271240e-02],\n",
       "       [-1.15204467e-01],\n",
       "       [-1.26816084e-01],\n",
       "       [-1.18533061e-01],\n",
       "       [-9.33036710e-02],\n",
       "       [-5.03136527e-02],\n",
       "       [-9.70263392e-03],\n",
       "       [ 2.48729800e-02],\n",
       "       [ 4.05874996e-02],\n",
       "       [ 4.36419150e-02],\n",
       "       [ 3.49534072e-02],\n",
       "       [ 2.12257270e-02],\n",
       "       [ 1.02420896e-02],\n",
       "       [ 2.85131714e-03],\n",
       "       [ 3.06749961e-04],\n",
       "       [ 0.00000000e+00],\n",
       "       [ 0.00000000e+00],\n",
       "       [-8.76549927e-06],\n",
       "       [-1.36392447e-04],\n",
       "       [ 1.18581360e-03],\n",
       "       [ 4.95263977e-03],\n",
       "       [ 8.03201014e-03],\n",
       "       [ 1.94444074e-03],\n",
       "       [-8.35738010e-03],\n",
       "       [-1.84824595e-02],\n",
       "       [-4.83411410e-02],\n",
       "       [-7.91274073e-02],\n",
       "       [-1.04288620e-01],\n",
       "       [-1.30405427e-01],\n",
       "       [-1.47713591e-01],\n",
       "       [-1.47811290e-01],\n",
       "       [-1.34759516e-01],\n",
       "       [-9.98067158e-02],\n",
       "       [-6.31291414e-02],\n",
       "       [-2.82681517e-02],\n",
       "       [-4.02010174e-03],\n",
       "       [ 1.02763247e-02],\n",
       "       [ 1.30104514e-02],\n",
       "       [ 1.04374661e-02],\n",
       "       [ 6.18122963e-03],\n",
       "       [ 3.14085732e-03],\n",
       "       [ 1.20632707e-03],\n",
       "       [ 1.94505024e-06],\n",
       "       [ 0.00000000e+00],\n",
       "       [ 0.00000000e+00],\n",
       "       [ 0.00000000e+00],\n",
       "       [ 0.00000000e+00],\n",
       "       [-1.35442373e-04],\n",
       "       [-5.38415786e-04],\n",
       "       [-2.11181930e-03],\n",
       "       [-5.89978752e-03],\n",
       "       [-1.70582589e-02],\n",
       "       [-3.26648071e-02],\n",
       "       [-4.99514977e-02],\n",
       "       [-6.36191777e-02],\n",
       "       [-7.05534086e-02],\n",
       "       [-8.21888933e-02],\n",
       "       [-8.65645425e-02],\n",
       "       [-8.17141173e-02],\n",
       "       [-7.17171114e-02],\n",
       "       [-5.68756538e-02],\n",
       "       [-4.07949951e-02],\n",
       "       [-2.70047810e-02],\n",
       "       [-1.37983286e-02],\n",
       "       [-6.28081799e-03],\n",
       "       [-8.99396342e-04],\n",
       "       [-6.73339091e-04],\n",
       "       [-3.83578809e-04],\n",
       "       [ 9.42032850e-05],\n",
       "       [ 1.30915153e-05],\n",
       "       [ 0.00000000e+00],\n",
       "       [ 0.00000000e+00],\n",
       "       [ 0.00000000e+00],\n",
       "       [ 0.00000000e+00],\n",
       "       [ 0.00000000e+00],\n",
       "       [-2.50131585e-05],\n",
       "       [-9.77537448e-04],\n",
       "       [-1.97897766e-03],\n",
       "       [-4.47370337e-03],\n",
       "       [-9.44460975e-03],\n",
       "       [-1.53054471e-02],\n",
       "       [-2.11458034e-02],\n",
       "       [-2.42919496e-02],\n",
       "       [-2.67433417e-02],\n",
       "       [-2.89853805e-02],\n",
       "       [-2.98893818e-02],\n",
       "       [-2.96253795e-02],\n",
       "       [-2.66715514e-02],\n",
       "       [-2.24339973e-02],\n",
       "       [-1.63684237e-02],\n",
       "       [-1.10964893e-02],\n",
       "       [-7.29176243e-03],\n",
       "       [-4.18926514e-03],\n",
       "       [-1.13117627e-03],\n",
       "       [-1.23319766e-07],\n",
       "       [ 1.31018891e-04],\n",
       "       [-6.89439208e-05],\n",
       "       [-1.00082363e-05],\n",
       "       [ 0.00000000e+00],\n",
       "       [ 0.00000000e+00],\n",
       "       [ 0.00000000e+00],\n",
       "       [ 0.00000000e+00],\n",
       "       [ 0.00000000e+00],\n",
       "       [ 0.00000000e+00],\n",
       "       [-1.23858098e-05],\n",
       "       [-2.47005980e-04],\n",
       "       [-1.23723249e-03],\n",
       "       [-2.75675917e-03],\n",
       "       [-4.55679514e-03],\n",
       "       [-6.59129353e-03],\n",
       "       [-7.70723770e-03],\n",
       "       [-9.58207350e-03],\n",
       "       [-1.07095853e-02],\n",
       "       [-1.10365320e-02],\n",
       "       [-1.05595941e-02],\n",
       "       [-9.07321412e-03],\n",
       "       [-7.50866615e-03],\n",
       "       [-5.46765017e-03],\n",
       "       [-2.84066364e-03],\n",
       "       [-1.93284189e-03],\n",
       "       [-1.27168723e-03],\n",
       "       [-6.88120104e-04],\n",
       "       [-2.63165658e-04],\n",
       "       [-4.93985511e-05],\n",
       "       [-2.46494906e-06],\n",
       "       [ 0.00000000e+00],\n",
       "       [ 0.00000000e+00],\n",
       "       [ 0.00000000e+00],\n",
       "       [ 0.00000000e+00],\n",
       "       [ 0.00000000e+00],\n",
       "       [ 0.00000000e+00],\n",
       "       [ 0.00000000e+00],\n",
       "       [ 0.00000000e+00],\n",
       "       [ 0.00000000e+00],\n",
       "       [-5.63786935e-06],\n",
       "       [-1.09225403e-04],\n",
       "       [-2.12359714e-04],\n",
       "       [-3.24435102e-04],\n",
       "       [-3.44605862e-04],\n",
       "       [-3.97257574e-04],\n",
       "       [-6.27492242e-04],\n",
       "       [-7.98899986e-04],\n",
       "       [-1.10761137e-03],\n",
       "       [-1.23657107e-03],\n",
       "       [-1.09193972e-03],\n",
       "       [-7.85440149e-04],\n",
       "       [-4.83234212e-04],\n",
       "       [-4.13044868e-04],\n",
       "       [-1.30092194e-04],\n",
       "       [-1.09394969e-06],\n",
       "       [ 0.00000000e+00],\n",
       "       [ 0.00000000e+00],\n",
       "       [ 0.00000000e+00],\n",
       "       [ 0.00000000e+00],\n",
       "       [ 0.00000000e+00],\n",
       "       [ 0.00000000e+00]])"
      ]
     },
     "execution_count": 15,
     "metadata": {},
     "output_type": "execute_result"
    }
   ],
   "source": [
    "theta_res"
   ]
  },
  {
   "cell_type": "code",
   "execution_count": 16,
   "metadata": {},
   "outputs": [],
   "source": [
    "# now we need to read test set and reshape it similarly to training set\n",
    "test_data, test_labels = read_data_set('./t10k-images.idx3-ubyte', './t10k-labels.idx1-ubyte', 10000)\n",
    "test_data = test_data / 255.0\n",
    "test_data.shape = [test_data.shape[0], test_data.shape[1] * test_data.shape[2]]\n",
    "y = np.array(test_labels == 2, dtype=np.float32)\n",
    "X = np.concatenate((np.ones((1, len(y))), test_data.T))"
   ]
  },
  {
   "cell_type": "code",
   "execution_count": 17,
   "metadata": {},
   "outputs": [],
   "source": [
    "# calculate hypothesis for test data\n",
    "h = 1.0 / (1 + np.exp(-theta.T @ X))\n",
    "y_pred = h.flatten()"
   ]
  },
  {
   "cell_type": "code",
   "execution_count": 18,
   "metadata": {},
   "outputs": [
    {
     "name": "stdout",
     "output_type": "stream",
     "text": [
      "TN: 0, TP: 0, FP: 980, FN: 9020\n"
     ]
    }
   ],
   "source": [
    "TP, TN, FP, FN = perf_measure(test_labels, y_pred)\n",
    "print(f'TN: {TN}, TP: {TP}, FP: {FP}, FN: {FN}')"
   ]
  },
  {
   "cell_type": "markdown",
   "metadata": {},
   "source": [
    "The classifier seems not to work properly, tested for different parametres of iterations and learning rate."
   ]
  },
  {
   "cell_type": "code",
   "execution_count": null,
   "metadata": {},
   "outputs": [],
   "source": []
  }
 ],
 "metadata": {
  "kernelspec": {
   "display_name": "Python 3",
   "language": "python",
   "name": "python3"
  },
  "language_info": {
   "codemirror_mode": {
    "name": "ipython",
    "version": 3
   },
   "file_extension": ".py",
   "mimetype": "text/x-python",
   "name": "python",
   "nbconvert_exporter": "python",
   "pygments_lexer": "ipython3",
   "version": "3.6.10"
  }
 },
 "nbformat": 4,
 "nbformat_minor": 4
}
