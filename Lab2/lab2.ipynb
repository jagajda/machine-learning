{
 "cells": [
  {
   "cell_type": "code",
   "execution_count": 1,
   "metadata": {},
   "outputs": [],
   "source": [
    "import pandas as pd\n",
    "import numpy as np\n",
    "import matplotlib.pyplot as plt"
   ]
  },
  {
   "cell_type": "code",
   "execution_count": 2,
   "metadata": {},
   "outputs": [],
   "source": [
    "import os\n",
    "path = os.getcwd() + '\\dane1.txt'\n",
    "data = pd.read_csv(path, header=None, names=['Population', 'Profit'])"
   ]
  },
  {
   "cell_type": "markdown",
   "metadata": {},
   "source": [
    "# Linear regression with one variable\n",
    "## Exercise 1\n",
    "Examining input data"
   ]
  },
  {
   "cell_type": "code",
   "execution_count": 3,
   "metadata": {},
   "outputs": [
    {
     "data": {
      "text/html": [
       "<div>\n",
       "<style scoped>\n",
       "    .dataframe tbody tr th:only-of-type {\n",
       "        vertical-align: middle;\n",
       "    }\n",
       "\n",
       "    .dataframe tbody tr th {\n",
       "        vertical-align: top;\n",
       "    }\n",
       "\n",
       "    .dataframe thead th {\n",
       "        text-align: right;\n",
       "    }\n",
       "</style>\n",
       "<table border=\"1\" class=\"dataframe\">\n",
       "  <thead>\n",
       "    <tr style=\"text-align: right;\">\n",
       "      <th></th>\n",
       "      <th>Population</th>\n",
       "      <th>Profit</th>\n",
       "    </tr>\n",
       "  </thead>\n",
       "  <tbody>\n",
       "    <tr>\n",
       "      <th>0</th>\n",
       "      <td>6.1101</td>\n",
       "      <td>17.5920</td>\n",
       "    </tr>\n",
       "    <tr>\n",
       "      <th>1</th>\n",
       "      <td>5.5277</td>\n",
       "      <td>9.1302</td>\n",
       "    </tr>\n",
       "    <tr>\n",
       "      <th>2</th>\n",
       "      <td>8.5186</td>\n",
       "      <td>13.6620</td>\n",
       "    </tr>\n",
       "    <tr>\n",
       "      <th>3</th>\n",
       "      <td>7.0032</td>\n",
       "      <td>11.8540</td>\n",
       "    </tr>\n",
       "    <tr>\n",
       "      <th>4</th>\n",
       "      <td>5.8598</td>\n",
       "      <td>6.8233</td>\n",
       "    </tr>\n",
       "  </tbody>\n",
       "</table>\n",
       "</div>"
      ],
      "text/plain": [
       "   Population   Profit\n",
       "0      6.1101  17.5920\n",
       "1      5.5277   9.1302\n",
       "2      8.5186  13.6620\n",
       "3      7.0032  11.8540\n",
       "4      5.8598   6.8233"
      ]
     },
     "execution_count": 3,
     "metadata": {},
     "output_type": "execute_result"
    }
   ],
   "source": [
    "data.head()"
   ]
  },
  {
   "cell_type": "code",
   "execution_count": 4,
   "metadata": {},
   "outputs": [
    {
     "data": {
      "text/html": [
       "<div>\n",
       "<style scoped>\n",
       "    .dataframe tbody tr th:only-of-type {\n",
       "        vertical-align: middle;\n",
       "    }\n",
       "\n",
       "    .dataframe tbody tr th {\n",
       "        vertical-align: top;\n",
       "    }\n",
       "\n",
       "    .dataframe thead th {\n",
       "        text-align: right;\n",
       "    }\n",
       "</style>\n",
       "<table border=\"1\" class=\"dataframe\">\n",
       "  <thead>\n",
       "    <tr style=\"text-align: right;\">\n",
       "      <th></th>\n",
       "      <th>Population</th>\n",
       "      <th>Profit</th>\n",
       "    </tr>\n",
       "  </thead>\n",
       "  <tbody>\n",
       "    <tr>\n",
       "      <th>count</th>\n",
       "      <td>97.000000</td>\n",
       "      <td>97.000000</td>\n",
       "    </tr>\n",
       "    <tr>\n",
       "      <th>mean</th>\n",
       "      <td>8.159800</td>\n",
       "      <td>5.839135</td>\n",
       "    </tr>\n",
       "    <tr>\n",
       "      <th>std</th>\n",
       "      <td>3.869884</td>\n",
       "      <td>5.510262</td>\n",
       "    </tr>\n",
       "    <tr>\n",
       "      <th>min</th>\n",
       "      <td>5.026900</td>\n",
       "      <td>-2.680700</td>\n",
       "    </tr>\n",
       "    <tr>\n",
       "      <th>25%</th>\n",
       "      <td>5.707700</td>\n",
       "      <td>1.986900</td>\n",
       "    </tr>\n",
       "    <tr>\n",
       "      <th>50%</th>\n",
       "      <td>6.589400</td>\n",
       "      <td>4.562300</td>\n",
       "    </tr>\n",
       "    <tr>\n",
       "      <th>75%</th>\n",
       "      <td>8.578100</td>\n",
       "      <td>7.046700</td>\n",
       "    </tr>\n",
       "    <tr>\n",
       "      <th>max</th>\n",
       "      <td>22.203000</td>\n",
       "      <td>24.147000</td>\n",
       "    </tr>\n",
       "  </tbody>\n",
       "</table>\n",
       "</div>"
      ],
      "text/plain": [
       "       Population     Profit\n",
       "count   97.000000  97.000000\n",
       "mean     8.159800   5.839135\n",
       "std      3.869884   5.510262\n",
       "min      5.026900  -2.680700\n",
       "25%      5.707700   1.986900\n",
       "50%      6.589400   4.562300\n",
       "75%      8.578100   7.046700\n",
       "max     22.203000  24.147000"
      ]
     },
     "execution_count": 4,
     "metadata": {},
     "output_type": "execute_result"
    }
   ],
   "source": [
    "data.describe()"
   ]
  },
  {
   "cell_type": "markdown",
   "metadata": {},
   "source": [
    "## Exercise 2\n",
    "Plotting and analyzing data"
   ]
  },
  {
   "cell_type": "code",
   "execution_count": 5,
   "metadata": {},
   "outputs": [
    {
     "data": {
      "image/png": "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\n",
      "text/plain": [
       "<Figure size 432x288 with 1 Axes>"
      ]
     },
     "metadata": {
      "needs_background": "light"
     },
     "output_type": "display_data"
    }
   ],
   "source": [
    "plt.plot(data['Population'], data['Profit'], '.b')\n",
    "plt.xlabel('Population')\n",
    "plt.ylabel('Profit')\n",
    "plt.title('Relation between population and profit')\n",
    "plt.show()"
   ]
  },
  {
   "cell_type": "markdown",
   "metadata": {},
   "source": [
    "## Exercise 3\n",
    "Inserting new coulmn to Dataframe"
   ]
  },
  {
   "cell_type": "code",
   "execution_count": 6,
   "metadata": {},
   "outputs": [],
   "source": [
    "data.insert(loc=0, column='Cost', value=1, allow_duplicates=False)"
   ]
  },
  {
   "cell_type": "markdown",
   "metadata": {},
   "source": [
    "## Exercise 4\n",
    "Checking if column has been added correctly and variables separation"
   ]
  },
  {
   "cell_type": "code",
<<<<<<< HEAD
   "execution_count": 25,
=======
   "execution_count": 37,
>>>>>>> 28a058b00d9fbeee9e068a3a59cdd6bda9895628
   "metadata": {},
   "outputs": [
    {
     "data": {
      "text/html": [
       "<div>\n",
       "<style scoped>\n",
       "    .dataframe tbody tr th:only-of-type {\n",
       "        vertical-align: middle;\n",
       "    }\n",
       "\n",
       "    .dataframe tbody tr th {\n",
       "        vertical-align: top;\n",
       "    }\n",
       "\n",
       "    .dataframe thead th {\n",
       "        text-align: right;\n",
       "    }\n",
       "</style>\n",
       "<table border=\"1\" class=\"dataframe\">\n",
       "  <thead>\n",
       "    <tr style=\"text-align: right;\">\n",
       "      <th></th>\n",
       "      <th>Cost</th>\n",
       "      <th>Population</th>\n",
       "      <th>Profit</th>\n",
       "    </tr>\n",
       "  </thead>\n",
       "  <tbody>\n",
       "    <tr>\n",
       "      <th>0</th>\n",
       "      <td>1</td>\n",
       "      <td>6.1101</td>\n",
       "      <td>17.5920</td>\n",
       "    </tr>\n",
       "    <tr>\n",
       "      <th>1</th>\n",
       "      <td>1</td>\n",
       "      <td>5.5277</td>\n",
       "      <td>9.1302</td>\n",
       "    </tr>\n",
       "    <tr>\n",
       "      <th>2</th>\n",
       "      <td>1</td>\n",
       "      <td>8.5186</td>\n",
       "      <td>13.6620</td>\n",
       "    </tr>\n",
       "    <tr>\n",
       "      <th>3</th>\n",
       "      <td>1</td>\n",
       "      <td>7.0032</td>\n",
       "      <td>11.8540</td>\n",
       "    </tr>\n",
       "    <tr>\n",
       "      <th>4</th>\n",
       "      <td>1</td>\n",
       "      <td>5.8598</td>\n",
       "      <td>6.8233</td>\n",
       "    </tr>\n",
       "  </tbody>\n",
       "</table>\n",
       "</div>"
      ],
      "text/plain": [
       "   Cost  Population   Profit\n",
       "0     1      6.1101  17.5920\n",
       "1     1      5.5277   9.1302\n",
       "2     1      8.5186  13.6620\n",
       "3     1      7.0032  11.8540\n",
       "4     1      5.8598   6.8233"
      ]
     },
<<<<<<< HEAD
     "execution_count": 25,
=======
     "execution_count": 37,
>>>>>>> 28a058b00d9fbeee9e068a3a59cdd6bda9895628
     "metadata": {},
     "output_type": "execute_result"
    }
   ],
   "source": [
    "data.head()"
   ]
  },
  {
   "cell_type": "code",
<<<<<<< HEAD
   "execution_count": 26,
=======
   "execution_count": 38,
>>>>>>> 28a058b00d9fbeee9e068a3a59cdd6bda9895628
   "metadata": {},
   "outputs": [
    {
     "data": {
      "text/html": [
       "<div>\n",
       "<style scoped>\n",
       "    .dataframe tbody tr th:only-of-type {\n",
       "        vertical-align: middle;\n",
       "    }\n",
       "\n",
       "    .dataframe tbody tr th {\n",
       "        vertical-align: top;\n",
       "    }\n",
       "\n",
       "    .dataframe thead th {\n",
       "        text-align: right;\n",
       "    }\n",
       "</style>\n",
       "<table border=\"1\" class=\"dataframe\">\n",
       "  <thead>\n",
       "    <tr style=\"text-align: right;\">\n",
       "      <th></th>\n",
       "      <th>Cost</th>\n",
       "      <th>Population</th>\n",
       "    </tr>\n",
       "  </thead>\n",
       "  <tbody>\n",
       "    <tr>\n",
       "      <th>0</th>\n",
       "      <td>1</td>\n",
       "      <td>6.1101</td>\n",
       "    </tr>\n",
       "    <tr>\n",
       "      <th>1</th>\n",
       "      <td>1</td>\n",
       "      <td>5.5277</td>\n",
       "    </tr>\n",
       "    <tr>\n",
       "      <th>2</th>\n",
       "      <td>1</td>\n",
       "      <td>8.5186</td>\n",
       "    </tr>\n",
       "    <tr>\n",
       "      <th>3</th>\n",
       "      <td>1</td>\n",
       "      <td>7.0032</td>\n",
       "    </tr>\n",
       "    <tr>\n",
       "      <th>4</th>\n",
       "      <td>1</td>\n",
       "      <td>5.8598</td>\n",
       "    </tr>\n",
       "  </tbody>\n",
       "</table>\n",
       "</div>"
      ],
      "text/plain": [
       "   Cost  Population\n",
       "0     1      6.1101\n",
       "1     1      5.5277\n",
       "2     1      8.5186\n",
       "3     1      7.0032\n",
       "4     1      5.8598"
      ]
     },
<<<<<<< HEAD
     "execution_count": 26,
=======
     "execution_count": 38,
>>>>>>> 28a058b00d9fbeee9e068a3a59cdd6bda9895628
     "metadata": {},
     "output_type": "execute_result"
    }
   ],
   "source": [
    "X = data[['Cost', 'Population']]\n",
    "X.head()"
   ]
  },
  {
   "cell_type": "code",
<<<<<<< HEAD
   "execution_count": 27,
=======
   "execution_count": 39,
>>>>>>> 28a058b00d9fbeee9e068a3a59cdd6bda9895628
   "metadata": {},
   "outputs": [
    {
     "data": {
      "text/plain": [
       "0    17.5920\n",
       "1     9.1302\n",
       "2    13.6620\n",
       "3    11.8540\n",
       "4     6.8233\n",
       "Name: Profit, dtype: float64"
      ]
     },
<<<<<<< HEAD
     "execution_count": 27,
=======
     "execution_count": 39,
>>>>>>> 28a058b00d9fbeee9e068a3a59cdd6bda9895628
     "metadata": {},
     "output_type": "execute_result"
    }
   ],
   "source": [
    "y = data.Profit\n",
    "y.head()"
   ]
  },
  {
   "cell_type": "code",
<<<<<<< HEAD
   "execution_count": 28,
=======
   "execution_count": 40,
>>>>>>> 28a058b00d9fbeee9e068a3a59cdd6bda9895628
   "metadata": {},
   "outputs": [],
   "source": [
    "# Data conversion\n",
    "X = np.matrix(X.values, dtype=np.float64)\n",
    "y = np.matrix(y.values, dtype=np.float64)\n",
    "theta = np.matrix(np.array([0,0]), dtype=np.float64)\n",
    "# transpose if necessary\n",
    "if len(X) != 1:\n",
    "    X = np.transpose(X)\n",
    "if len(y) != 1:\n",
    "    y = np.transpose(y)"
   ]
  },
  {
   "cell_type": "code",
<<<<<<< HEAD
   "execution_count": 29,
=======
   "execution_count": 41,
>>>>>>> 28a058b00d9fbeee9e068a3a59cdd6bda9895628
   "metadata": {},
   "outputs": [
    {
     "data": {
      "text/plain": [
       "(2, 97)"
      ]
     },
<<<<<<< HEAD
     "execution_count": 29,
=======
     "execution_count": 41,
>>>>>>> 28a058b00d9fbeee9e068a3a59cdd6bda9895628
     "metadata": {},
     "output_type": "execute_result"
    }
   ],
   "source": [
    "X.shape"
   ]
  },
  {
   "cell_type": "code",
<<<<<<< HEAD
   "execution_count": 30,
=======
   "execution_count": 42,
>>>>>>> 28a058b00d9fbeee9e068a3a59cdd6bda9895628
   "metadata": {},
   "outputs": [
    {
     "data": {
      "text/plain": [
       "(1, 97)"
      ]
     },
<<<<<<< HEAD
     "execution_count": 30,
=======
     "execution_count": 42,
>>>>>>> 28a058b00d9fbeee9e068a3a59cdd6bda9895628
     "metadata": {},
     "output_type": "execute_result"
    }
   ],
   "source": [
    "y.shape"
   ]
  },
  {
   "cell_type": "markdown",
   "metadata": {},
   "source": [
    "## Exercise 5"
   ]
  },
  {
   "cell_type": "markdown",
   "metadata": {},
   "source": [
    "## Exercise 6\n",
    "Cost function definition, adjusted for many columns in X"
   ]
  },
  {
   "cell_type": "code",
<<<<<<< HEAD
   "execution_count": 31,
=======
   "execution_count": 43,
>>>>>>> 28a058b00d9fbeee9e068a3a59cdd6bda9895628
   "metadata": {},
   "outputs": [],
   "source": [
    "def computeCost(X, y, theta):\n",
    "    m = X.shape[1]\n",
<<<<<<< HEAD
    "    cost = (1/(2*m))*np.sum(np.power(np.dot(theta, X) - y, 2))\n",
=======
    "    cost = (1/(2*m))*np.sum(np.power(theta * X - y, 2))\n",
>>>>>>> 28a058b00d9fbeee9e068a3a59cdd6bda9895628
    "    return cost"
   ]
  },
  {
   "cell_type": "code",
<<<<<<< HEAD
   "execution_count": 32,
=======
   "execution_count": 44,
>>>>>>> 28a058b00d9fbeee9e068a3a59cdd6bda9895628
   "metadata": {},
   "outputs": [
    {
     "data": {
      "text/plain": [
       "32.072733877455676"
      ]
     },
<<<<<<< HEAD
     "execution_count": 32,
=======
     "execution_count": 44,
>>>>>>> 28a058b00d9fbeee9e068a3a59cdd6bda9895628
     "metadata": {},
     "output_type": "execute_result"
    }
   ],
   "source": [
    "computeCost(X, y, theta)"
   ]
  },
  {
   "cell_type": "markdown",
   "metadata": {},
   "source": [
<<<<<<< HEAD
    "## Exercises 7 & 8\n",
=======
    "## Exercise 7 & 8\n",
>>>>>>> 28a058b00d9fbeee9e068a3a59cdd6bda9895628
    "Gradient descent method definition"
   ]
  },
  {
   "cell_type": "code",
<<<<<<< HEAD
   "execution_count": 33,
=======
   "execution_count": 45,
>>>>>>> 28a058b00d9fbeee9e068a3a59cdd6bda9895628
   "metadata": {},
   "outputs": [],
   "source": [
    "def gradient_prosty(X, y, theta, alpha, it):\n",
    "    m = X.shape[1]\n",
    "    costHist = []\n",
    "    thetaTemp = theta\n",
    "    for i in range(it):\n",
    "        for j in range(theta.shape[1]):\n",
    "            thetaTemp[0,j] = thetaTemp[0,j] - alpha * (1/m) * np.sum((np.dot(theta, X) - y) *  np.transpose(X[j]))\n",
    "        theta = thetaTemp\n",
    "        costHist.append(computeCost(X,y, np.matrix(np.array(theta))))\n",
    "    return costHist, theta"
   ]
  },
  {
   "cell_type": "markdown",
   "metadata": {},
   "source": [
    "## Exercise 9\n",
    "Calculating optimal parameters for dataset"
   ]
  },
  {
   "cell_type": "code",
<<<<<<< HEAD
   "execution_count": 34,
=======
   "execution_count": 46,
>>>>>>> 28a058b00d9fbeee9e068a3a59cdd6bda9895628
   "metadata": {},
   "outputs": [],
   "source": [
    "#initial values for learning rate and no. of iterations\n",
    "alpha = 0.01\n",
    "it = 1000\n",
    "\n",
    "cost = gradient_prosty(X, y, theta, alpha, it)[0]\n",
    "theta_result = gradient_prosty(X, y, theta, alpha, it)[1]"
   ]
  },
  {
   "cell_type": "markdown",
   "metadata": {},
   "source": [
    "## Exercise 9\n",
    "Printing optimal parametres for dataset"
   ]
  },
  {
   "cell_type": "code",
<<<<<<< HEAD
   "execution_count": 35,
=======
   "execution_count": 47,
>>>>>>> 28a058b00d9fbeee9e068a3a59cdd6bda9895628
   "metadata": {},
   "outputs": [
    {
     "data": {
      "text/plain": [
       "matrix([[-3.79118595,  1.18254485]])"
      ]
     },
<<<<<<< HEAD
     "execution_count": 35,
=======
     "execution_count": 47,
>>>>>>> 28a058b00d9fbeee9e068a3a59cdd6bda9895628
     "metadata": {},
     "output_type": "execute_result"
    }
   ],
   "source": [
    "theta_result"
   ]
  },
  {
   "cell_type": "markdown",
   "metadata": {},
   "source": [
    "## Exercise 10\n",
    "Printing cost function for optimal theta parameters"
   ]
  },
  {
   "cell_type": "code",
<<<<<<< HEAD
   "execution_count": 36,
   "metadata": {
    "scrolled": false
   },
=======
   "execution_count": 48,
   "metadata": {},
>>>>>>> 28a058b00d9fbeee9e068a3a59cdd6bda9895628
   "outputs": [
    {
     "data": {
      "text/plain": [
       "6.79372769071752"
      ]
     },
<<<<<<< HEAD
     "execution_count": 36,
=======
     "execution_count": 48,
>>>>>>> 28a058b00d9fbeee9e068a3a59cdd6bda9895628
     "metadata": {},
     "output_type": "execute_result"
    }
   ],
   "source": [
    "cost[:][0].item()"
   ]
  },
  {
   "cell_type": "markdown",
   "metadata": {},
   "source": [
    "## Exercise 11\n",
    "Plotting the regression function and dataset"
   ]
  },
  {
   "cell_type": "code",
<<<<<<< HEAD
   "execution_count": 37,
=======
   "execution_count": 54,
>>>>>>> 28a058b00d9fbeee9e068a3a59cdd6bda9895628
   "metadata": {},
   "outputs": [],
   "source": [
    "#predicted values\n",
    "predY = theta_result * X"
   ]
  },
  {
   "cell_type": "code",
<<<<<<< HEAD
   "execution_count": 38,
=======
   "execution_count": 55,
   "metadata": {},
   "outputs": [
    {
     "data": {
      "text/plain": [
       "(1, 97)"
      ]
     },
     "execution_count": 55,
     "metadata": {},
     "output_type": "execute_result"
    }
   ],
   "source": [
    "predY.shape"
   ]
  },
  {
   "cell_type": "code",
   "execution_count": 58,
>>>>>>> 28a058b00d9fbeee9e068a3a59cdd6bda9895628
   "metadata": {},
   "outputs": [],
   "source": [
    "# For plotting purposes only\n",
    "X = np.squeeze(np.asarray(X[1]))\n",
    "y = np.squeeze(np.asarray(y))\n",
    "predY = np.squeeze(np.asarray(predY))"
   ]
  },
  {
   "cell_type": "code",
<<<<<<< HEAD
   "execution_count": 39,
=======
   "execution_count": 59,
>>>>>>> 28a058b00d9fbeee9e068a3a59cdd6bda9895628
   "metadata": {},
   "outputs": [
    {
     "data": {
      "image/png": "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\n",
      "text/plain": [
       "<Figure size 432x288 with 1 Axes>"
      ]
     },
     "metadata": {
      "needs_background": "light"
     },
     "output_type": "display_data"
    }
   ],
   "source": [
    "plt.plot(X, predY, X, y, 'r.')\n",
    "plt.xlabel('Population')\n",
    "plt.ylabel('Income')\n",
    "plt.legend(['Predicted', 'Real'])\n",
    "plt.show()"
   ]
  },
  {
   "cell_type": "markdown",
   "metadata": {},
   "source": [
    "## Exercise 12\n",
    "Modyfing gradient descent method to plot relationship between cost function and number of iterations"
   ]
  },
  {
   "cell_type": "code",
<<<<<<< HEAD
   "execution_count": 40,
=======
   "execution_count": null,
>>>>>>> 28a058b00d9fbeee9e068a3a59cdd6bda9895628
   "metadata": {},
   "outputs": [],
   "source": [
    "iterations = range(it)\n",
    "costVal = np.squeeze(np.asarray(cost))"
   ]
  },
  {
   "cell_type": "code",
<<<<<<< HEAD
   "execution_count": 41,
   "metadata": {},
   "outputs": [
    {
     "data": {
      "image/png": "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\n",
      "text/plain": [
       "<Figure size 432x288 with 1 Axes>"
      ]
     },
     "metadata": {
      "needs_background": "light"
     },
     "output_type": "display_data"
    }
   ],
=======
   "execution_count": null,
   "metadata": {},
   "outputs": [],
>>>>>>> 28a058b00d9fbeee9e068a3a59cdd6bda9895628
   "source": [
    "plt.plot(iterations, costVal)\n",
    "plt.xlabel('Iterations')\n",
    "plt.ylabel('Cost function')\n",
    "plt.title('Relationship betweeen number of iterations and cot function')\n",
    "plt.show()"
   ]
  },
  {
   "cell_type": "markdown",
   "metadata": {},
   "source": [
    "# Linear regression with multiple variables"
   ]
  },
  {
   "cell_type": "markdown",
   "metadata": {},
   "source": [
    "## Exercise 1\n",
    "Examining input data"
   ]
  },
  {
   "cell_type": "code",
<<<<<<< HEAD
   "execution_count": 42,
   "metadata": {},
   "outputs": [
    {
     "data": {
      "text/html": [
       "<div>\n",
       "<style scoped>\n",
       "    .dataframe tbody tr th:only-of-type {\n",
       "        vertical-align: middle;\n",
       "    }\n",
       "\n",
       "    .dataframe tbody tr th {\n",
       "        vertical-align: top;\n",
       "    }\n",
       "\n",
       "    .dataframe thead th {\n",
       "        text-align: right;\n",
       "    }\n",
       "</style>\n",
       "<table border=\"1\" class=\"dataframe\">\n",
       "  <thead>\n",
       "    <tr style=\"text-align: right;\">\n",
       "      <th></th>\n",
       "      <th>Size</th>\n",
       "      <th>Bedrooms</th>\n",
       "      <th>Price</th>\n",
       "    </tr>\n",
       "  </thead>\n",
       "  <tbody>\n",
       "    <tr>\n",
       "      <th>0</th>\n",
       "      <td>2104</td>\n",
       "      <td>3</td>\n",
       "      <td>399900</td>\n",
       "    </tr>\n",
       "    <tr>\n",
       "      <th>1</th>\n",
       "      <td>1600</td>\n",
       "      <td>3</td>\n",
       "      <td>329900</td>\n",
       "    </tr>\n",
       "    <tr>\n",
       "      <th>2</th>\n",
       "      <td>2400</td>\n",
       "      <td>3</td>\n",
       "      <td>369000</td>\n",
       "    </tr>\n",
       "    <tr>\n",
       "      <th>3</th>\n",
       "      <td>1416</td>\n",
       "      <td>2</td>\n",
       "      <td>232000</td>\n",
       "    </tr>\n",
       "    <tr>\n",
       "      <th>4</th>\n",
       "      <td>3000</td>\n",
       "      <td>4</td>\n",
       "      <td>539900</td>\n",
       "    </tr>\n",
       "  </tbody>\n",
       "</table>\n",
       "</div>"
      ],
      "text/plain": [
       "   Size  Bedrooms   Price\n",
       "0  2104         3  399900\n",
       "1  1600         3  329900\n",
       "2  2400         3  369000\n",
       "3  1416         2  232000\n",
       "4  3000         4  539900"
      ]
     },
     "execution_count": 42,
     "metadata": {},
     "output_type": "execute_result"
    }
   ],
=======
   "execution_count": null,
   "metadata": {},
   "outputs": [],
>>>>>>> 28a058b00d9fbeee9e068a3a59cdd6bda9895628
   "source": [
    "path = os.getcwd() + '/dane2.txt'\n",
    "data2 = pd.read_csv(path, header=None, names=['Size', 'Bedrooms', 'Price'])\n",
    "data2.head()"
   ]
  },
  {
   "cell_type": "code",
<<<<<<< HEAD
   "execution_count": 43,
   "metadata": {},
   "outputs": [
    {
     "data": {
      "text/html": [
       "<div>\n",
       "<style scoped>\n",
       "    .dataframe tbody tr th:only-of-type {\n",
       "        vertical-align: middle;\n",
       "    }\n",
       "\n",
       "    .dataframe tbody tr th {\n",
       "        vertical-align: top;\n",
       "    }\n",
       "\n",
       "    .dataframe thead th {\n",
       "        text-align: right;\n",
       "    }\n",
       "</style>\n",
       "<table border=\"1\" class=\"dataframe\">\n",
       "  <thead>\n",
       "    <tr style=\"text-align: right;\">\n",
       "      <th></th>\n",
       "      <th>Size</th>\n",
       "      <th>Bedrooms</th>\n",
       "      <th>Price</th>\n",
       "    </tr>\n",
       "  </thead>\n",
       "  <tbody>\n",
       "    <tr>\n",
       "      <th>count</th>\n",
       "      <td>47.000000</td>\n",
       "      <td>47.000000</td>\n",
       "      <td>47.000000</td>\n",
       "    </tr>\n",
       "    <tr>\n",
       "      <th>mean</th>\n",
       "      <td>2000.680851</td>\n",
       "      <td>3.170213</td>\n",
       "      <td>340412.659574</td>\n",
       "    </tr>\n",
       "    <tr>\n",
       "      <th>std</th>\n",
       "      <td>794.702354</td>\n",
       "      <td>0.760982</td>\n",
       "      <td>125039.899586</td>\n",
       "    </tr>\n",
       "    <tr>\n",
       "      <th>min</th>\n",
       "      <td>852.000000</td>\n",
       "      <td>1.000000</td>\n",
       "      <td>169900.000000</td>\n",
       "    </tr>\n",
       "    <tr>\n",
       "      <th>25%</th>\n",
       "      <td>1432.000000</td>\n",
       "      <td>3.000000</td>\n",
       "      <td>249900.000000</td>\n",
       "    </tr>\n",
       "    <tr>\n",
       "      <th>50%</th>\n",
       "      <td>1888.000000</td>\n",
       "      <td>3.000000</td>\n",
       "      <td>299900.000000</td>\n",
       "    </tr>\n",
       "    <tr>\n",
       "      <th>75%</th>\n",
       "      <td>2269.000000</td>\n",
       "      <td>4.000000</td>\n",
       "      <td>384450.000000</td>\n",
       "    </tr>\n",
       "    <tr>\n",
       "      <th>max</th>\n",
       "      <td>4478.000000</td>\n",
       "      <td>5.000000</td>\n",
       "      <td>699900.000000</td>\n",
       "    </tr>\n",
       "  </tbody>\n",
       "</table>\n",
       "</div>"
      ],
      "text/plain": [
       "              Size   Bedrooms          Price\n",
       "count    47.000000  47.000000      47.000000\n",
       "mean   2000.680851   3.170213  340412.659574\n",
       "std     794.702354   0.760982  125039.899586\n",
       "min     852.000000   1.000000  169900.000000\n",
       "25%    1432.000000   3.000000  249900.000000\n",
       "50%    1888.000000   3.000000  299900.000000\n",
       "75%    2269.000000   4.000000  384450.000000\n",
       "max    4478.000000   5.000000  699900.000000"
      ]
     },
     "execution_count": 43,
     "metadata": {},
     "output_type": "execute_result"
    }
   ],
=======
   "execution_count": null,
   "metadata": {},
   "outputs": [],
>>>>>>> 28a058b00d9fbeee9e068a3a59cdd6bda9895628
   "source": [
    "data2.describe()"
   ]
  },
  {
   "cell_type": "markdown",
   "metadata": {},
   "source": [
    "Data normalization"
   ]
  },
  {
   "cell_type": "code",
<<<<<<< HEAD
   "execution_count": 44,
   "metadata": {},
   "outputs": [],
   "source": [
    "data2.Bedrooms = (data2.Bedrooms - data2.Bedrooms.mean()) / data2.Bedrooms.std()\n",
=======
   "execution_count": null,
   "metadata": {},
   "outputs": [],
   "source": [
>>>>>>> 28a058b00d9fbeee9e068a3a59cdd6bda9895628
    "data2.Size = (data2.Size - data2.Size.mean()) / data2.Size.std()\n",
    "data2.Price = (data2.Price - data2.Price.mean()) / data2.Price.std()"
   ]
  },
  {
   "cell_type": "code",
<<<<<<< HEAD
   "execution_count": 45,
   "metadata": {},
   "outputs": [
    {
     "data": {
      "text/html": [
       "<div>\n",
       "<style scoped>\n",
       "    .dataframe tbody tr th:only-of-type {\n",
       "        vertical-align: middle;\n",
       "    }\n",
       "\n",
       "    .dataframe tbody tr th {\n",
       "        vertical-align: top;\n",
       "    }\n",
       "\n",
       "    .dataframe thead th {\n",
       "        text-align: right;\n",
       "    }\n",
       "</style>\n",
       "<table border=\"1\" class=\"dataframe\">\n",
       "  <thead>\n",
       "    <tr style=\"text-align: right;\">\n",
       "      <th></th>\n",
       "      <th>Size</th>\n",
       "      <th>Bedrooms</th>\n",
       "      <th>Price</th>\n",
       "    </tr>\n",
       "  </thead>\n",
       "  <tbody>\n",
       "    <tr>\n",
       "      <th>count</th>\n",
       "      <td>4.700000e+01</td>\n",
       "      <td>4.700000e+01</td>\n",
       "      <td>4.700000e+01</td>\n",
       "    </tr>\n",
       "    <tr>\n",
       "      <th>mean</th>\n",
       "      <td>3.779483e-17</td>\n",
       "      <td>2.746030e-16</td>\n",
       "      <td>-9.684924e-17</td>\n",
       "    </tr>\n",
       "    <tr>\n",
       "      <th>std</th>\n",
       "      <td>1.000000e+00</td>\n",
       "      <td>1.000000e+00</td>\n",
       "      <td>1.000000e+00</td>\n",
       "    </tr>\n",
       "    <tr>\n",
       "      <th>min</th>\n",
       "      <td>-1.445423e+00</td>\n",
       "      <td>-2.851859e+00</td>\n",
       "      <td>-1.363666e+00</td>\n",
       "    </tr>\n",
       "    <tr>\n",
       "      <th>25%</th>\n",
       "      <td>-7.155897e-01</td>\n",
       "      <td>-2.236752e-01</td>\n",
       "      <td>-7.238702e-01</td>\n",
       "    </tr>\n",
       "    <tr>\n",
       "      <th>50%</th>\n",
       "      <td>-1.417900e-01</td>\n",
       "      <td>-2.236752e-01</td>\n",
       "      <td>-3.239979e-01</td>\n",
       "    </tr>\n",
       "    <tr>\n",
       "      <th>75%</th>\n",
       "      <td>3.376348e-01</td>\n",
       "      <td>1.090417e+00</td>\n",
       "      <td>3.521863e-01</td>\n",
       "    </tr>\n",
       "    <tr>\n",
       "      <th>max</th>\n",
       "      <td>3.117292e+00</td>\n",
       "      <td>2.404508e+00</td>\n",
       "      <td>2.874981e+00</td>\n",
       "    </tr>\n",
       "  </tbody>\n",
       "</table>\n",
       "</div>"
      ],
      "text/plain": [
       "               Size      Bedrooms         Price\n",
       "count  4.700000e+01  4.700000e+01  4.700000e+01\n",
       "mean   3.779483e-17  2.746030e-16 -9.684924e-17\n",
       "std    1.000000e+00  1.000000e+00  1.000000e+00\n",
       "min   -1.445423e+00 -2.851859e+00 -1.363666e+00\n",
       "25%   -7.155897e-01 -2.236752e-01 -7.238702e-01\n",
       "50%   -1.417900e-01 -2.236752e-01 -3.239979e-01\n",
       "75%    3.376348e-01  1.090417e+00  3.521863e-01\n",
       "max    3.117292e+00  2.404508e+00  2.874981e+00"
      ]
     },
     "execution_count": 45,
     "metadata": {},
     "output_type": "execute_result"
    }
   ],
=======
   "execution_count": null,
   "metadata": {},
   "outputs": [],
>>>>>>> 28a058b00d9fbeee9e068a3a59cdd6bda9895628
   "source": [
    "data2.describe()"
   ]
  },
  {
<<<<<<< HEAD
   "cell_type": "markdown",
   "metadata": {},
   "source": [
    "## Exercise 2\n",
    "## Exercise 3\n",
    "Inserting new column to dataframe"
   ]
  },
  {
   "cell_type": "code",
   "execution_count": 46,
   "metadata": {},
   "outputs": [],
   "source": [
    "data2.insert(loc=0, column='Cost', value=1, allow_duplicates=False)"
   ]
  },
  {
   "cell_type": "code",
   "execution_count": 47,
   "metadata": {},
   "outputs": [
    {
     "data": {
      "text/html": [
       "<div>\n",
       "<style scoped>\n",
       "    .dataframe tbody tr th:only-of-type {\n",
       "        vertical-align: middle;\n",
       "    }\n",
       "\n",
       "    .dataframe tbody tr th {\n",
       "        vertical-align: top;\n",
       "    }\n",
       "\n",
       "    .dataframe thead th {\n",
       "        text-align: right;\n",
       "    }\n",
       "</style>\n",
       "<table border=\"1\" class=\"dataframe\">\n",
       "  <thead>\n",
       "    <tr style=\"text-align: right;\">\n",
       "      <th></th>\n",
       "      <th>Cost</th>\n",
       "      <th>Size</th>\n",
       "      <th>Bedrooms</th>\n",
       "      <th>Price</th>\n",
       "    </tr>\n",
       "  </thead>\n",
       "  <tbody>\n",
       "    <tr>\n",
       "      <th>0</th>\n",
       "      <td>1</td>\n",
       "      <td>0.130010</td>\n",
       "      <td>-0.223675</td>\n",
       "      <td>0.475747</td>\n",
       "    </tr>\n",
       "    <tr>\n",
       "      <th>1</th>\n",
       "      <td>1</td>\n",
       "      <td>-0.504190</td>\n",
       "      <td>-0.223675</td>\n",
       "      <td>-0.084074</td>\n",
       "    </tr>\n",
       "    <tr>\n",
       "      <th>2</th>\n",
       "      <td>1</td>\n",
       "      <td>0.502476</td>\n",
       "      <td>-0.223675</td>\n",
       "      <td>0.228626</td>\n",
       "    </tr>\n",
       "    <tr>\n",
       "      <th>3</th>\n",
       "      <td>1</td>\n",
       "      <td>-0.735723</td>\n",
       "      <td>-1.537767</td>\n",
       "      <td>-0.867025</td>\n",
       "    </tr>\n",
       "    <tr>\n",
       "      <th>4</th>\n",
       "      <td>1</td>\n",
       "      <td>1.257476</td>\n",
       "      <td>1.090417</td>\n",
       "      <td>1.595389</td>\n",
       "    </tr>\n",
       "  </tbody>\n",
       "</table>\n",
       "</div>"
      ],
      "text/plain": [
       "   Cost      Size  Bedrooms     Price\n",
       "0     1  0.130010 -0.223675  0.475747\n",
       "1     1 -0.504190 -0.223675 -0.084074\n",
       "2     1  0.502476 -0.223675  0.228626\n",
       "3     1 -0.735723 -1.537767 -0.867025\n",
       "4     1  1.257476  1.090417  1.595389"
      ]
     },
     "execution_count": 47,
     "metadata": {},
     "output_type": "execute_result"
    }
   ],
   "source": [
    "data2.head()"
   ]
  },
  {
   "cell_type": "markdown",
   "metadata": {},
   "source": [
    "## Exercise 4\n",
    "Separating the data"
   ]
  },
  {
   "cell_type": "code",
   "execution_count": 55,
   "metadata": {},
   "outputs": [
    {
     "data": {
      "text/html": [
       "<div>\n",
       "<style scoped>\n",
       "    .dataframe tbody tr th:only-of-type {\n",
       "        vertical-align: middle;\n",
       "    }\n",
       "\n",
       "    .dataframe tbody tr th {\n",
       "        vertical-align: top;\n",
       "    }\n",
       "\n",
       "    .dataframe thead th {\n",
       "        text-align: right;\n",
       "    }\n",
       "</style>\n",
       "<table border=\"1\" class=\"dataframe\">\n",
       "  <thead>\n",
       "    <tr style=\"text-align: right;\">\n",
       "      <th></th>\n",
       "      <th>Cost</th>\n",
       "      <th>Bedrooms</th>\n",
       "      <th>Size</th>\n",
       "    </tr>\n",
       "  </thead>\n",
       "  <tbody>\n",
       "    <tr>\n",
       "      <th>0</th>\n",
       "      <td>1</td>\n",
       "      <td>-0.223675</td>\n",
       "      <td>0.130010</td>\n",
       "    </tr>\n",
       "    <tr>\n",
       "      <th>1</th>\n",
       "      <td>1</td>\n",
       "      <td>-0.223675</td>\n",
       "      <td>-0.504190</td>\n",
       "    </tr>\n",
       "    <tr>\n",
       "      <th>2</th>\n",
       "      <td>1</td>\n",
       "      <td>-0.223675</td>\n",
       "      <td>0.502476</td>\n",
       "    </tr>\n",
       "    <tr>\n",
       "      <th>3</th>\n",
       "      <td>1</td>\n",
       "      <td>-1.537767</td>\n",
       "      <td>-0.735723</td>\n",
       "    </tr>\n",
       "    <tr>\n",
       "      <th>4</th>\n",
       "      <td>1</td>\n",
       "      <td>1.090417</td>\n",
       "      <td>1.257476</td>\n",
       "    </tr>\n",
       "  </tbody>\n",
       "</table>\n",
       "</div>"
      ],
      "text/plain": [
       "   Cost  Bedrooms      Size\n",
       "0     1 -0.223675  0.130010\n",
       "1     1 -0.223675 -0.504190\n",
       "2     1 -0.223675  0.502476\n",
       "3     1 -1.537767 -0.735723\n",
       "4     1  1.090417  1.257476"
      ]
     },
     "execution_count": 55,
     "metadata": {},
     "output_type": "execute_result"
    }
   ],
   "source": [
    "X = data2[['Cost', 'Bedrooms', 'Size']]\n",
    "X.head()"
   ]
  },
  {
   "cell_type": "code",
   "execution_count": 56,
   "metadata": {},
   "outputs": [
    {
     "data": {
      "text/plain": [
       "0    0.475747\n",
       "1   -0.084074\n",
       "2    0.228626\n",
       "3   -0.867025\n",
       "4    1.595389\n",
       "Name: Price, dtype: float64"
      ]
     },
     "execution_count": 56,
     "metadata": {},
     "output_type": "execute_result"
    }
   ],
   "source": [
    "y = data2['Price']\n",
    "y.head()"
   ]
  },
  {
   "cell_type": "code",
   "execution_count": 57,
   "metadata": {},
   "outputs": [],
   "source": [
    "# Data conversion\n",
    "X = np.matrix(X.values, dtype=np.float64)\n",
    "y = np.matrix(y.values, dtype=np.float64)\n",
    "theta = np.matrix(np.array([0,0,0]), dtype=np.float64)\n",
    "# transpose if necessary\n",
    "if len(X) != 1:\n",
    "    X = np.transpose(X)\n",
    "if len(y) != 1:\n",
    "    y = np.transpose(y)"
   ]
  },
  {
   "cell_type": "code",
   "execution_count": 58,
   "metadata": {},
   "outputs": [
    {
     "data": {
      "text/plain": [
       "(3, 47)"
      ]
     },
     "execution_count": 58,
     "metadata": {},
     "output_type": "execute_result"
    }
   ],
   "source": [
    "X.shape"
   ]
  },
  {
   "cell_type": "code",
   "execution_count": 59,
   "metadata": {},
   "outputs": [
    {
     "data": {
      "text/plain": [
       "(1, 47)"
      ]
     },
     "execution_count": 59,
     "metadata": {},
     "output_type": "execute_result"
    }
   ],
   "source": [
    "y.shape"
   ]
  },
  {
   "cell_type": "markdown",
   "metadata": {},
   "source": [
    "## Exercise 5"
   ]
  },
  {
   "cell_type": "markdown",
   "metadata": {},
   "source": [
    "## Exercise 6\n",
    "Calculating cost function for initial parameters"
   ]
  },
  {
   "cell_type": "code",
   "execution_count": 60,
   "metadata": {},
   "outputs": [
    {
     "data": {
      "text/plain": [
       "0.4893617021276595"
      ]
     },
     "execution_count": 60,
     "metadata": {},
     "output_type": "execute_result"
    }
   ],
   "source": [
    "computeCost(X, y, theta)"
   ]
  },
  {
   "cell_type": "markdown",
   "metadata": {},
   "source": [
    "## Exercise 9\n",
    "Calculating optimal parameters for dataset"
   ]
  },
  {
   "cell_type": "code",
   "execution_count": 61,
   "metadata": {},
   "outputs": [],
   "source": [
    "#initial values for learning rate and no. of iterations\n",
    "alpha = 0.01\n",
    "it = 1000\n",
    "\n",
    "cost = gradient_prosty(X, y, theta, alpha, it)[0]\n",
    "theta_result = gradient_prosty(X, y, theta, alpha, it)[1]"
   ]
  },
  {
   "cell_type": "markdown",
   "metadata": {},
   "source": [
    "## Exercise 9\n",
    "Printing optimal parametres for dataset"
   ]
  },
  {
   "cell_type": "code",
   "execution_count": 62,
   "metadata": {},
   "outputs": [
    {
     "data": {
      "text/plain": [
       "matrix([[-1.10856950e-16, -5.30967987e-02,  8.84684144e-01]])"
      ]
     },
     "execution_count": 62,
     "metadata": {},
     "output_type": "execute_result"
    }
   ],
   "source": [
    "theta_result"
   ]
  },
  {
   "cell_type": "markdown",
   "metadata": {},
   "source": [
    "## Exercise 10\n",
    "Printing cost function for optimal theta parameters"
   ]
  },
  {
   "cell_type": "code",
   "execution_count": 63,
   "metadata": {
    "scrolled": false
   },
   "outputs": [
    {
     "data": {
      "text/plain": [
       "0.4805687047617097"
      ]
     },
     "execution_count": 63,
     "metadata": {},
     "output_type": "execute_result"
    }
   ],
   "source": [
    "cost[:][0].item()"
   ]
  },
  {
   "cell_type": "markdown",
   "metadata": {},
   "source": [
    "## Exercise 11\n",
    "Plotting the regression function and dataset"
   ]
  },
  {
   "cell_type": "code",
   "execution_count": 66,
   "metadata": {},
   "outputs": [
    {
     "data": {
      "text/plain": [
       "(1, 47)"
      ]
     },
     "execution_count": 66,
     "metadata": {},
     "output_type": "execute_result"
    }
   ],
   "source": [
    "predY = theta * X\n",
    "predY.shape"
   ]
  },
  {
   "cell_type": "code",
   "execution_count": 67,
   "metadata": {},
   "outputs": [],
   "source": [
    "# For plotting purposes only\n",
    "X1 = np.squeeze(np.asarray(X[1]))\n",
    "X2 = np.squeeze(np.asarray(X[2]))\n",
    "y = np.squeeze(np.asarray(y))\n",
    "predY = np.squeeze(np.asarray(predY))"
   ]
  },
  {
   "cell_type": "code",
   "execution_count": null,
   "metadata": {},
   "outputs": [],
   "source": [
    "ax.plot(X1, X2, z, label='parametric curve')\n",
    "ax.legend()\n",
    "\n",
    "plt.show()"
   ]
=======
   "cell_type": "code",
   "execution_count": null,
   "metadata": {},
   "outputs": [],
   "source": []
>>>>>>> 28a058b00d9fbeee9e068a3a59cdd6bda9895628
  }
 ],
 "metadata": {
  "kernelspec": {
   "display_name": "Python 3",
   "language": "python",
   "name": "python3"
  },
  "language_info": {
   "codemirror_mode": {
    "name": "ipython",
    "version": 3
   },
   "file_extension": ".py",
   "mimetype": "text/x-python",
   "name": "python",
   "nbconvert_exporter": "python",
   "pygments_lexer": "ipython3",
   "version": "3.6.10"
  }
 },
 "nbformat": 4,
 "nbformat_minor": 4
}
